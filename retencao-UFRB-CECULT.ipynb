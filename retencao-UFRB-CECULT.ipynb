{
 "cells": [
  {
   "cell_type": "code",
   "execution_count": 1,
   "metadata": {},
   "outputs": [],
   "source": [
    "import pandas as pd\n",
    "\n",
    "\n",
    "import numpy as np\n",
    "\n",
    "import seaborn as sns\n",
    "import matplotlib.pyplot as plt\n",
    "\n",
    "def plot_percentage(df, x, y, xlabel):   \n",
    "    counts = df.groupby(x)[y].value_counts(normalize=True).mul(100).rename('percent').reset_index()\n",
    "    print(counts)\n",
    "    g = sns.catplot(x=x, y='percent', hue=y, data=counts, kind='bar')\n",
    "    \n",
    "    g.set(xlabel = xlabel)\n",
    "    \n",
    "    new_title = 'Evasão'\n",
    "    g._legend.set_title(new_title)\n",
    "    # replace labels\n",
    "    new_labels = ['Não', 'Sim']\n",
    "    for t, l in zip(g._legend.texts, new_labels): t.set_text(l)\n",
    "    plt.show()\n",
    "\n",
    "def plot_time_bar(col_group, target, title):\n",
    "    data = df.groupby(['time', col_group]).agg({target:'mean'}).reset_index()\n",
    "    ax = sns.barplot(x='time', y=target, data=data, hue=col_group)\n",
    "    ax.set(title=title) "
   ]
  },
  {
   "cell_type": "code",
   "execution_count": 2,
   "metadata": {
    "scrolled": true
   },
   "outputs": [
    {
     "name": "stderr",
     "output_type": "stream",
     "text": [
      "/home/ramon/.local/lib/python3.6/site-packages/IPython/core/interactiveshell.py:3063: DtypeWarning: Columns (10,14,28) have mixed types.Specify dtype option on import or set low_memory=False.\n",
      "  interactivity=interactivity, compiler=compiler, result=result)\n"
     ]
    },
    {
     "data": {
      "text/plain": [
       "Index(['matricula', 'periodoLetivo', 'n_rep', 'n_repf', 'n_apr', 'n_tra',\n",
       "       'mediaFinal', 'anoIngresso', 'periodoingresso', 'prazoConclusao',\n",
       "       'dataColacaoGrau', 'periodoAtual', 'dataIntegralizacao',\n",
       "       'modalidadeVaga', 'dataConclusao', 'nomeDiscente', 'dataNascimento',\n",
       "       'sexo', 'raca', 'cpf', 'ufNaturalidade', 'municipioNaturalidade',\n",
       "       'segundoGrauAnoConclusao', 'tipoEnsinoMedio', 'formaIngresso',\n",
       "       'statusDiscente', 'codigoInep', 'curso', 'curriculo', 'is_cotista',\n",
       "       'periodo', 'anoNascimento', 'idade', 'gap', 'centro', 'municipio',\n",
       "       'turno', 'is_outra_cidade', 'time', 'total', 'p_rep', 'p_repf', 'p_apr',\n",
       "       'p_tra'],\n",
       "      dtype='object')"
      ]
     },
     "execution_count": 2,
     "metadata": {},
     "output_type": "execute_result"
    }
   ],
   "source": [
    "df = pd.read_csv('/home/ramon/extrator/retencao/retencao.csv')\n",
    "\n",
    "df = df[df['centro'] == 'CECULT']\n",
    "\n",
    "df.columns\n"
   ]
  },
  {
   "cell_type": "markdown",
   "metadata": {},
   "source": [
    "# Q.1 - Sexo afeta a reprovação?\n",
    "\n",
    "- Homens possuem maiores taxas de reprovação\n",
    "- Não há significância estatística nas diferenças"
   ]
  },
  {
   "cell_type": "code",
   "execution_count": 3,
   "metadata": {},
   "outputs": [
    {
     "data": {
      "image/png": "[encoded data removed]",
      "text/plain": [
       "<Figure size 432x288 with 1 Axes>"
      ]
     },
     "metadata": {
      "needs_background": "light"
     },
     "output_type": "display_data"
    }
   ],
   "source": [
    "plot_time_bar('sexo', 'p_rep', 'Reprovação por Sexo')   "
   ]
  },
  {
   "cell_type": "code",
   "execution_count": 4,
   "metadata": {},
   "outputs": [
    {
     "name": "stdout",
     "output_type": "stream",
     "text": [
      "1 0.19554\n",
      "2 0.27851\n",
      "3 0.89661\n",
      "4 0.48795\n",
      "5 0.04410\n",
      "6 0.20821\n",
      "7 0.35649\n",
      "8 0.69488\n",
      "9 0.06038\n",
      "10 nan\n",
      "11 nan\n"
     ]
    },
    {
     "name": "stderr",
     "output_type": "stream",
     "text": [
      "/home/ramon/.local/lib/python3.6/site-packages/numpy/core/fromnumeric.py:3622: RuntimeWarning: Degrees of freedom <= 0 for slice\n",
      "  **kwargs)\n",
      "/home/ramon/.local/lib/python3.6/site-packages/numpy/core/_methods.py:226: RuntimeWarning: invalid value encountered in double_scalars\n",
      "  ret = ret.dtype.type(ret / rcount)\n"
     ]
    }
   ],
   "source": [
    "col = 'sexo'\n",
    "\n",
    "for time in df.time.unique():\n",
    "\n",
    "    idx_time = (df.time == time) \n",
    "    idx_cat= (df[col] == 'M')\n",
    "\n",
    "    x = df.loc[(idx_time) & (idx_cat), 'p_rep'].values\n",
    "    y = df.loc[(idx_time) & (~idx_cat), 'p_rep'].values\n",
    "\n",
    "\n",
    "\n",
    "    from scipy import stats\n",
    "    print('%d %.5f'%(time, stats.ttest_ind(x, y)[1]))"
   ]
  },
  {
   "cell_type": "markdown",
   "metadata": {},
   "source": [
    "# Q.2 - Forma de Ingresso (cotista ou ampla concorrência) impacta a reprovação?\n",
    "\n",
    "- Não há um padrão\n",
    "- Não há significância estatística nas diferenças"
   ]
  },
  {
   "cell_type": "code",
   "execution_count": 5,
   "metadata": {},
   "outputs": [
    {
     "data": {
      "image/png": "[encoded data removed]",
      "text/plain": [
       "<Figure size 432x288 with 1 Axes>"
      ]
     },
     "metadata": {
      "needs_background": "light"
     },
     "output_type": "display_data"
    }
   ],
   "source": [
    "plot_time_bar('is_cotista', 'p_rep', 'Reprovação por Forma de Ingresso')   "
   ]
  },
  {
   "cell_type": "code",
   "execution_count": 6,
   "metadata": {},
   "outputs": [
    {
     "name": "stdout",
     "output_type": "stream",
     "text": [
      "1 0.22325\n",
      "2 0.17317\n",
      "3 0.33747\n",
      "4 0.38898\n",
      "5 0.87830\n",
      "6 0.68985\n",
      "7 0.53584\n",
      "8 0.62944\n",
      "9 0.24665\n",
      "10 nan\n",
      "11 nan\n"
     ]
    }
   ],
   "source": [
    "col = 'is_cotista'\n",
    "\n",
    "for time in df.time.unique():\n",
    "\n",
    "    idx_time = (df.time == time) \n",
    "    idx_cat= (df[col] == 1)\n",
    "\n",
    "    x = df.loc[(idx_time) & (idx_cat), 'p_rep'].values\n",
    "    y = df.loc[(idx_time) & (~idx_cat), 'p_rep'].values\n",
    "\n",
    "\n",
    "\n",
    "    from scipy import stats\n",
    "    print('%d %.5f'%(time, stats.ttest_ind(x, y)[1]))"
   ]
  },
  {
   "cell_type": "markdown",
   "metadata": {},
   "source": [
    "# Q.3 - Cidade de origem impacta a reprovação?\n",
    "\n",
    "- Discentes de outra cidade possuem maior taxa de reprovação\n",
    "- Não há significância estatística nas diferenças"
   ]
  },
  {
   "cell_type": "code",
   "execution_count": 7,
   "metadata": {},
   "outputs": [
    {
     "data": {
      "image/png": "[encoded data removed]",
      "text/plain": [
       "<Figure size 432x288 with 1 Axes>"
      ]
     },
     "metadata": {
      "needs_background": "light"
     },
     "output_type": "display_data"
    }
   ],
   "source": [
    "plot_time_bar('is_outra_cidade', 'p_rep', 'Reprovação por Cidde de Origem')   "
   ]
  },
  {
   "cell_type": "code",
   "execution_count": 8,
   "metadata": {},
   "outputs": [
    {
     "name": "stdout",
     "output_type": "stream",
     "text": [
      "1 0.42458\n",
      "2 0.53741\n",
      "3 0.71903\n",
      "4 0.15031\n",
      "5 0.13777\n",
      "6 0.16690\n",
      "7 0.02721\n",
      "8 0.48232\n",
      "9 0.24665\n",
      "10 nan\n",
      "11 nan\n"
     ]
    }
   ],
   "source": [
    "col = 'is_outra_cidade'\n",
    "\n",
    "for time in df.time.unique():\n",
    "\n",
    "    idx_time = (df.time == time) \n",
    "    idx_cat= (df[col] == 1)\n",
    "\n",
    "    x = df.loc[(idx_time) & (idx_cat), 'p_rep'].values\n",
    "    y = df.loc[(idx_time) & (~idx_cat), 'p_rep'].values\n",
    "\n",
    "\n",
    "\n",
    "    from scipy import stats\n",
    "    print('%d %.5f'%(time, stats.ttest_ind(x, y)[1]))"
   ]
  },
  {
   "cell_type": "markdown",
   "metadata": {},
   "source": [
    "# Q.4 - Período de Ingresso (1o ou 2o edição do SISU) impacta a reprovação?\n",
    "\n",
    "- Não há evidências\n",
    "- Não há significância estatística nas diferenças"
   ]
  },
  {
   "cell_type": "code",
   "execution_count": 9,
   "metadata": {},
   "outputs": [
    {
     "data": {
      "image/png": "[encoded data removed]",
      "text/plain": [
       "<Figure size 432x288 with 1 Axes>"
      ]
     },
     "metadata": {
      "needs_background": "light"
     },
     "output_type": "display_data"
    }
   ],
   "source": [
    "plot_time_bar('periodoingresso', 'p_rep', 'Reprovação por Período de Ingresso')   "
   ]
  },
  {
   "cell_type": "code",
   "execution_count": 10,
   "metadata": {},
   "outputs": [
    {
     "name": "stdout",
     "output_type": "stream",
     "text": [
      "1 0.40001\n",
      "2 0.34950\n",
      "3 0.02939\n",
      "4 0.95590\n",
      "5 0.74927\n",
      "6 0.50538\n",
      "7 nan\n",
      "8 nan\n",
      "9 nan\n",
      "10 nan\n",
      "11 nan\n"
     ]
    }
   ],
   "source": [
    "col = 'periodoingresso'\n",
    "\n",
    "for time in df.time.unique():\n",
    "\n",
    "    idx_time = (df.time == time) \n",
    "    idx_cat= (df[col] == 1)\n",
    "\n",
    "    x = df.loc[(idx_time) & (idx_cat), 'p_rep'].values\n",
    "    y = df.loc[(idx_time) & (~idx_cat), 'p_rep'].values\n",
    "\n",
    "\n",
    "\n",
    "    from scipy import stats\n",
    "    print('%d %.5f'%(time, stats.ttest_ind(x, y)[1]))"
   ]
  },
  {
   "cell_type": "markdown",
   "metadata": {},
   "source": [
    "# Q5 - Taxa de reprovação decresce com o tempo?\n",
    "\n",
    "- Taxa de reprovação tende a decreser até o 4o semestre"
   ]
  },
  {
   "cell_type": "code",
   "execution_count": 11,
   "metadata": {},
   "outputs": [
    {
     "data": {
      "text/plain": [
       "[<matplotlib.axis.XTick at 0x7fdaef7b5cf8>,\n",
       " <matplotlib.axis.XTick at 0x7fdaef7b55f8>,\n",
       " <matplotlib.axis.XTick at 0x7fdaefffa278>,\n",
       " <matplotlib.axis.XTick at 0x7fdab8f09908>,\n",
       " <matplotlib.axis.XTick at 0x7fdab8f09a90>,\n",
       " <matplotlib.axis.XTick at 0x7fdab8f092e8>,\n",
       " <matplotlib.axis.XTick at 0x7fdab8f09048>,\n",
       " <matplotlib.axis.XTick at 0x7fdaef7b5470>,\n",
       " <matplotlib.axis.XTick at 0x7fdab8d3aeb8>,\n",
       " <matplotlib.axis.XTick at 0x7fdaef79a7f0>,\n",
       " <matplotlib.axis.XTick at 0x7fdab8ecbbe0>]"
      ]
     },
     "execution_count": 11,
     "metadata": {},
     "output_type": "execute_result"
    },
    {
     "data": {
      "image/png": "[encoded data removed]",
      "text/plain": [
       "<Figure size 432x288 with 1 Axes>"
      ]
     },
     "metadata": {
      "needs_background": "light"
     },
     "output_type": "display_data"
    }
   ],
   "source": [
    "data = df.groupby('time').agg({'p_rep':'mean'}).reset_index()\n",
    "\n",
    "ax = sns.lineplot(x='time', y='p_rep', data=data)    \n",
    "ax.set(title='Reprovação')\n",
    "\n",
    "ax.set_xticks(df['time'].unique())"
   ]
  },
  {
   "cell_type": "markdown",
   "metadata": {},
   "source": [
    "# Q6 - A idade de ingresso afeta a taxa de reprovação no 1o semestre?\n",
    "\n",
    "- Taxa de reprovação tende a crescer à medida que a idade aumenta"
   ]
  },
  {
   "cell_type": "code",
   "execution_count": 12,
   "metadata": {},
   "outputs": [
    {
     "name": "stdout",
     "output_type": "stream",
     "text": [
      "              p_rep\n",
      "idade_cat          \n",
      "(0, 20]    0.162698\n",
      "(20, 25]   0.228291\n",
      "(25, 30]   0.190901\n",
      "(30, 50]   0.204969\n",
      "(50, 100]  0.233631\n"
     ]
    },
    {
     "data": {
      "image/png": "[encoded data removed]",
      "text/plain": [
       "<Figure size 432x288 with 1 Axes>"
      ]
     },
     "metadata": {
      "needs_background": "light"
     },
     "output_type": "display_data"
    }
   ],
   "source": [
    "col = 'idade_cat'\n",
    "df[col] = pd.cut(df.idade, bins=[0,20,25,30,50,100])\n",
    "\n",
    "for idx, _df in df.groupby(['time']):\n",
    "    \n",
    "    data = _df.groupby(col).agg({'p_rep' : 'mean'})\n",
    "    print(data)\n",
    "    ax = data.plot.bar()\n",
    "    ax.set(ylabel=\"Percent\")\n",
    "    ax.set(title='Reprovação Por Idade no semestre %d'%(idx), xlabel='Faixas de Idade')\n",
    "    plt.show()\n",
    "    break"
   ]
  }
 ],
 "metadata": {
  "kernelspec": {
   "display_name": "Python 3",
   "language": "python",
   "name": "python3"
  },
  "language_info": {
   "codemirror_mode": {
    "name": "ipython",
    "version": 3
   },
   "file_extension": ".py",
   "mimetype": "text/x-python",
   "name": "python",
   "nbconvert_exporter": "python",
   "pygments_lexer": "ipython3",
   "version": "3.6.9"
  }
 },
 "nbformat": 4,
 "nbformat_minor": 4
}
