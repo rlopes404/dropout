{
 "cells": [
  {
   "cell_type": "code",
   "execution_count": 1,
   "metadata": {},
   "outputs": [],
   "source": [
    "import pandas as pd\n",
    "\n",
    "\n",
    "import numpy as np\n",
    "\n",
    "import seaborn as sns\n",
    "import matplotlib.pyplot as plt\n",
    "\n",
    "def plot_percentage(df, x, y, xlabel):   \n",
    "    counts = df.groupby(x)[y].value_counts(normalize=True).mul(100).rename('percent').reset_index()\n",
    "    print(counts)\n",
    "    g = sns.catplot(x=x, y='percent', hue=y, data=counts, kind='bar')\n",
    "    \n",
    "    g.set(xlabel = xlabel)\n",
    "    \n",
    "    new_title = 'Evasão'\n",
    "    g._legend.set_title(new_title)\n",
    "    # replace labels\n",
    "    new_labels = ['Não', 'Sim']\n",
    "    for t, l in zip(g._legend.texts, new_labels): t.set_text(l)\n",
    "    plt.show()\n",
    "\n",
    "def plot_time_bar(col_group, target, title):\n",
    "    data = df.groupby(['time', col_group]).agg({target:'mean'}).reset_index()\n",
    "    ax = sns.barplot(x='time', y=target, data=data, hue=col_group)\n",
    "    ax.set(title=title) "
   ]
  },
  {
   "cell_type": "code",
   "execution_count": 2,
   "metadata": {},
   "outputs": [
    {
     "name": "stderr",
     "output_type": "stream",
     "text": [
      "/home/ramon/.local/lib/python3.6/site-packages/IPython/core/interactiveshell.py:3063: DtypeWarning: Columns (10,14,28) have mixed types.Specify dtype option on import or set low_memory=False.\n",
      "  interactivity=interactivity, compiler=compiler, result=result)\n"
     ]
    },
    {
     "data": {
      "text/plain": [
       "Index(['matricula', 'periodoLetivo', 'n_rep', 'n_repf', 'n_apr', 'n_tra',\n",
       "       'mediaFinal', 'anoIngresso', 'periodoingresso', 'prazoConclusao',\n",
       "       'dataColacaoGrau', 'periodoAtual', 'dataIntegralizacao',\n",
       "       'modalidadeVaga', 'dataConclusao', 'nomeDiscente', 'dataNascimento',\n",
       "       'sexo', 'raca', 'cpf', 'ufNaturalidade', 'municipioNaturalidade',\n",
       "       'segundoGrauAnoConclusao', 'tipoEnsinoMedio', 'formaIngresso',\n",
       "       'statusDiscente', 'codigoInep', 'curso', 'curriculo', 'is_cotista',\n",
       "       'periodo', 'anoNascimento', 'idade', 'gap', 'centro', 'municipio',\n",
       "       'turno', 'is_outra_cidade', 'time', 'total', 'p_rep', 'p_repf', 'p_apr',\n",
       "       'p_tra'],\n",
       "      dtype='object')"
      ]
     },
     "execution_count": 2,
     "metadata": {},
     "output_type": "execute_result"
    }
   ],
   "source": [
    "df = pd.read_csv('/home/ramon/extrator/retencao/retencao.csv')\n",
    "\n",
    "df = df[df['centro'] == 'CCS']\n",
    "\n",
    "df.columns\n"
   ]
  },
  {
   "cell_type": "markdown",
   "metadata": {},
   "source": [
    "# Q.1 - Sexo afeta a reprovação?\n",
    "\n",
    "- Homens possuem maiores taxas de reprovação\n",
    "- Diferença é estatisticamente significativa nos semestres: 1,3,4"
   ]
  },
  {
   "cell_type": "code",
   "execution_count": 3,
   "metadata": {},
   "outputs": [
    {
     "data": {
      "image/png": "[encoded data removed]",
      "text/plain": [
       "<Figure size 432x288 with 1 Axes>"
      ]
     },
     "metadata": {
      "needs_background": "light"
     },
     "output_type": "display_data"
    }
   ],
   "source": [
    "plot_time_bar('sexo', 'p_rep', 'Reprovação por Sexo')   "
   ]
  },
  {
   "cell_type": "code",
   "execution_count": 4,
   "metadata": {},
   "outputs": [
    {
     "name": "stdout",
     "output_type": "stream",
     "text": [
      "1 0.00431\n",
      "2 0.21632\n",
      "3 0.00809\n",
      "4 0.00884\n",
      "5 0.58738\n",
      "6 0.18510\n",
      "7 0.00472\n",
      "8 0.00338\n",
      "9 0.10160\n",
      "10 0.00670\n",
      "11 0.12288\n",
      "12 0.03289\n",
      "13 0.02575\n",
      "14 0.01425\n",
      "15 0.07346\n",
      "16 nan\n",
      "17 nan\n",
      "18 nan\n",
      "19 nan\n"
     ]
    },
    {
     "name": "stderr",
     "output_type": "stream",
     "text": [
      "/home/ramon/.local/lib/python3.6/site-packages/numpy/core/fromnumeric.py:3622: RuntimeWarning: Degrees of freedom <= 0 for slice\n",
      "  **kwargs)\n",
      "/home/ramon/.local/lib/python3.6/site-packages/numpy/core/_methods.py:226: RuntimeWarning: invalid value encountered in double_scalars\n",
      "  ret = ret.dtype.type(ret / rcount)\n"
     ]
    }
   ],
   "source": [
    "col = 'sexo'\n",
    "\n",
    "for time in df.time.unique():\n",
    "\n",
    "    idx_time = (df.time == time) \n",
    "    idx_cat= (df[col] == 'M')\n",
    "\n",
    "    x = df.loc[(idx_time) & (idx_cat), 'p_rep'].values\n",
    "    y = df.loc[(idx_time) & (~idx_cat), 'p_rep'].values\n",
    "\n",
    "\n",
    "\n",
    "    from scipy import stats\n",
    "    print('%d %.5f'%(time, stats.ttest_ind(x, y)[1]))"
   ]
  },
  {
   "cell_type": "markdown",
   "metadata": {},
   "source": [
    "# Q.2 - Forma de Ingresso (cotista ou ampla concorrência) impacta a reprovação?\n",
    "\n",
    "- Cotistas possuem maior taxa de reprovação nos semestres 1,3,4,5,6,7\n",
    "- A diferença é estatisticamente significativa nos semestres: 3,4,6,7"
   ]
  },
  {
   "cell_type": "code",
   "execution_count": 5,
   "metadata": {},
   "outputs": [
    {
     "data": {
      "image/png": "[encoded data removed]",
      "text/plain": [
       "<Figure size 432x288 with 1 Axes>"
      ]
     },
     "metadata": {
      "needs_background": "light"
     },
     "output_type": "display_data"
    }
   ],
   "source": [
    "plot_time_bar('is_cotista', 'p_rep', 'Reprovação por Forma de Ingresso')   "
   ]
  },
  {
   "cell_type": "code",
   "execution_count": 6,
   "metadata": {},
   "outputs": [
    {
     "name": "stdout",
     "output_type": "stream",
     "text": [
      "1 0.49018\n",
      "2 0.51387\n",
      "3 0.00529\n",
      "4 0.04488\n",
      "5 0.25122\n",
      "6 0.04270\n",
      "7 0.01594\n",
      "8 0.40704\n",
      "9 0.79273\n",
      "10 0.84347\n",
      "11 0.33044\n",
      "12 0.69715\n",
      "13 0.67003\n",
      "14 0.41497\n",
      "15 nan\n",
      "16 nan\n",
      "17 nan\n",
      "18 nan\n",
      "19 nan\n"
     ]
    }
   ],
   "source": [
    "col = 'is_cotista'\n",
    "\n",
    "for time in df.time.unique():\n",
    "\n",
    "    idx_time = (df.time == time) \n",
    "    idx_cat= (df[col] == 1)\n",
    "\n",
    "    x = df.loc[(idx_time) & (idx_cat), 'p_rep'].values\n",
    "    y = df.loc[(idx_time) & (~idx_cat), 'p_rep'].values\n",
    "\n",
    "\n",
    "\n",
    "    from scipy import stats\n",
    "    print('%d %.5f'%(time, stats.ttest_ind(x, y)[1]))"
   ]
  },
  {
   "cell_type": "markdown",
   "metadata": {},
   "source": [
    "# Q.3 - Cidade de origem impacta a reprovação?\n",
    "\n",
    "- Não há evidências nem significância estatística"
   ]
  },
  {
   "cell_type": "code",
   "execution_count": 7,
   "metadata": {},
   "outputs": [
    {
     "data": {
      "image/png": "[encoded data removed]",
      "text/plain": [
       "<Figure size 432x288 with 1 Axes>"
      ]
     },
     "metadata": {
      "needs_background": "light"
     },
     "output_type": "display_data"
    }
   ],
   "source": [
    "plot_time_bar('is_outra_cidade', 'p_rep', 'Reprovação por Cidde de Origem')   "
   ]
  },
  {
   "cell_type": "code",
   "execution_count": 8,
   "metadata": {},
   "outputs": [
    {
     "name": "stdout",
     "output_type": "stream",
     "text": [
      "1 0.14728\n",
      "2 0.24192\n",
      "3 0.86549\n",
      "4 0.69790\n",
      "5 0.51177\n",
      "6 0.81793\n",
      "7 0.96960\n",
      "8 0.93080\n",
      "9 0.06367\n",
      "10 0.79531\n",
      "11 0.19793\n",
      "12 0.53773\n",
      "13 0.40779\n",
      "14 0.89331\n",
      "15 nan\n",
      "16 nan\n",
      "17 nan\n",
      "18 nan\n",
      "19 nan\n"
     ]
    }
   ],
   "source": [
    "col = 'is_outra_cidade'\n",
    "\n",
    "for time in df.time.unique():\n",
    "\n",
    "    idx_time = (df.time == time) \n",
    "    idx_cat= (df[col] == 1)\n",
    "\n",
    "    x = df.loc[(idx_time) & (idx_cat), 'p_rep'].values\n",
    "    y = df.loc[(idx_time) & (~idx_cat), 'p_rep'].values\n",
    "\n",
    "\n",
    "\n",
    "    from scipy import stats\n",
    "    print('%d %.5f'%(time, stats.ttest_ind(x, y)[1]))"
   ]
  },
  {
   "cell_type": "markdown",
   "metadata": {},
   "source": [
    "# Q.4 - Período de Ingresso (1o ou 2o edição do SISU) impacta a reprovação?\n",
    "\n",
    "- Não há evidências, com exceção no 2o semestre"
   ]
  },
  {
   "cell_type": "code",
   "execution_count": 9,
   "metadata": {},
   "outputs": [
    {
     "data": {
      "image/png": "[encoded data removed]",
      "text/plain": [
       "<Figure size 432x288 with 1 Axes>"
      ]
     },
     "metadata": {
      "needs_background": "light"
     },
     "output_type": "display_data"
    }
   ],
   "source": [
    "plot_time_bar('periodoingresso', 'p_rep', 'Reprovação por Período de Ingresso')   "
   ]
  },
  {
   "cell_type": "code",
   "execution_count": 10,
   "metadata": {},
   "outputs": [
    {
     "name": "stdout",
     "output_type": "stream",
     "text": [
      "1 0.80136\n",
      "2 0.00065\n",
      "3 0.75752\n",
      "4 0.12896\n",
      "5 0.16052\n",
      "6 0.21139\n",
      "7 0.72335\n",
      "8 0.59931\n",
      "9 0.61878\n",
      "10 0.01861\n",
      "11 0.30457\n",
      "12 0.00810\n",
      "13 0.80759\n",
      "14 0.38892\n",
      "15 nan\n",
      "16 nan\n",
      "17 nan\n",
      "18 nan\n",
      "19 nan\n"
     ]
    }
   ],
   "source": [
    "col = 'periodoingresso'\n",
    "\n",
    "for time in df.time.unique():\n",
    "\n",
    "    idx_time = (df.time == time) \n",
    "    idx_cat= (df[col] == 1)\n",
    "\n",
    "    x = df.loc[(idx_time) & (idx_cat), 'p_rep'].values\n",
    "    y = df.loc[(idx_time) & (~idx_cat), 'p_rep'].values\n",
    "\n",
    "\n",
    "\n",
    "    from scipy import stats\n",
    "    print('%d %.5f'%(time, stats.ttest_ind(x, y)[1]))"
   ]
  },
  {
   "cell_type": "markdown",
   "metadata": {},
   "source": [
    "# Q5 - Taxa de reprovação decresce com o tempo?\n",
    "\n",
    "- Taxa de reprovação tende a se manter constante em torno da média até o 12 semestre"
   ]
  },
  {
   "cell_type": "code",
   "execution_count": 11,
   "metadata": {},
   "outputs": [
    {
     "data": {
      "text/plain": [
       "[<matplotlib.axis.XTick at 0x7f01b1778e10>,\n",
       " <matplotlib.axis.XTick at 0x7f01b1778dd8>,\n",
       " <matplotlib.axis.XTick at 0x7f01b179d390>,\n",
       " <matplotlib.axis.XTick at 0x7f01b179d9b0>,\n",
       " <matplotlib.axis.XTick at 0x7f01b173e198>,\n",
       " <matplotlib.axis.XTick at 0x7f01b179dcf8>,\n",
       " <matplotlib.axis.XTick at 0x7f01b173e3c8>,\n",
       " <matplotlib.axis.XTick at 0x7f01b173eb00>,\n",
       " <matplotlib.axis.XTick at 0x7f01b173ee80>,\n",
       " <matplotlib.axis.XTick at 0x7f01b1778a20>,\n",
       " <matplotlib.axis.XTick at 0x7f01b1745160>,\n",
       " <matplotlib.axis.XTick at 0x7f01b173ebe0>,\n",
       " <matplotlib.axis.XTick at 0x7f01b17542e8>,\n",
       " <matplotlib.axis.XTick at 0x7f01b1754780>,\n",
       " <matplotlib.axis.XTick at 0x7f01b1754c18>,\n",
       " <matplotlib.axis.XTick at 0x7f01b175c160>,\n",
       " <matplotlib.axis.XTick at 0x7f01b175c588>,\n",
       " <matplotlib.axis.XTick at 0x7f01b175ca20>,\n",
       " <matplotlib.axis.XTick at 0x7f01b175ceb8>]"
      ]
     },
     "execution_count": 11,
     "metadata": {},
     "output_type": "execute_result"
    },
    {
     "data": {
      "image/png": "[encoded data removed]",
      "text/plain": [
       "<Figure size 432x288 with 1 Axes>"
      ]
     },
     "metadata": {
      "needs_background": "light"
     },
     "output_type": "display_data"
    }
   ],
   "source": [
    "data = df.groupby('time').agg({'p_rep':'mean'}).reset_index()\n",
    "\n",
    "ax = sns.lineplot(x='time', y='p_rep', data=data)    \n",
    "ax.set(title='Reprovação')\n",
    "\n",
    "ax.set_xticks(df['time'].unique())"
   ]
  },
  {
   "cell_type": "markdown",
   "metadata": {},
   "source": [
    "# Q6 - A idade de ingresso afeta a taxa de reprovação no 1o semestre?\n",
    "\n",
    "- Taxa de reprovação no 1o semestre do curso tende a aumentar substancialmente a partir de 25 anos."
   ]
  },
  {
   "cell_type": "code",
   "execution_count": 12,
   "metadata": {},
   "outputs": [
    {
     "name": "stdout",
     "output_type": "stream",
     "text": [
      "              p_rep\n",
      "idade_cat          \n",
      "(0, 20]    0.060270\n",
      "(20, 25]   0.061834\n",
      "(25, 30]   0.147908\n",
      "(30, 50]   0.153641\n",
      "(50, 100]  0.133333\n"
     ]
    },
    {
     "data": {
      "image/png": "[encoded data removed]",
      "text/plain": [
       "<Figure size 432x288 with 1 Axes>"
      ]
     },
     "metadata": {
      "needs_background": "light"
     },
     "output_type": "display_data"
    }
   ],
   "source": [
    "col = 'idade_cat'\n",
    "df[col] = pd.cut(df.idade, bins=[0,20,25,30,50,100])\n",
    "\n",
    "for idx, _df in df.groupby(['time']):\n",
    "    \n",
    "    data = _df.groupby(col).agg({'p_rep' : 'mean'})\n",
    "    print(data)\n",
    "    ax = data.plot.bar()\n",
    "    ax.set(ylabel=\"Percent\")\n",
    "    ax.set(title='Reprovação Por Idade no semestre %d'%(idx), xlabel='Faixas de Idade')\n",
    "    plt.show()\n",
    "    break"
   ]
  }
 ],
 "metadata": {
  "kernelspec": {
   "display_name": "Python 3",
   "language": "python",
   "name": "python3"
  },
  "language_info": {
   "codemirror_mode": {
    "name": "ipython",
    "version": 3
   },
   "file_extension": ".py",
   "mimetype": "text/x-python",
   "name": "python",
   "nbconvert_exporter": "python",
   "pygments_lexer": "ipython3",
   "version": "3.6.9"
  }
 },
 "nbformat": 4,
 "nbformat_minor": 4
}
