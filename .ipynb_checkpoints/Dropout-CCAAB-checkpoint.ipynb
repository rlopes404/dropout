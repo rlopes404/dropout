{
 "cells": [
  {
   "cell_type": "code",
   "execution_count": 16,
   "metadata": {},
   "outputs": [],
   "source": [
    "import pandas as pd\n",
    "import numpy as np\n",
    "\n",
    "import seaborn as sns\n",
    "import matplotlib.pyplot as plt\n",
    "\n",
    "def plot_percentage(df, x, y):   \n",
    "    counts = df.groupby(x)[y].value_counts(normalize=True).mul(100).rename('percent').reset_index()\n",
    "    print(counts)\n",
    "    sns.catplot(x=x, y='percent', hue=y, data=counts, kind='bar')\n",
    "    plt.show()\n",
    "\n",
    "df = pd.read_csv('ze_final.csv')"
   ]
  },
  {
   "cell_type": "code",
   "execution_count": 17,
   "metadata": {},
   "outputs": [],
   "source": [
    "df = df[df['centro'] == 'CCAAB']\n"
   ]
  },
  {
   "cell_type": "markdown",
   "metadata": {},
   "source": [
    "**Perfil dos Estudantes na Amostra**\n",
    "\n",
    "- 59% evadiram\n",
    "- 78% possuem cidade de origem diferente da cidade do campus\n",
    "- 55% são do sexo feminino\n",
    "- Idade média dos estudantes é 23"
   ]
  },
  {
   "cell_type": "code",
   "execution_count": 18,
   "metadata": {},
   "outputs": [
    {
     "name": "stdout",
     "output_type": "stream",
     "text": [
      "1    0.596679\n",
      "0    0.403321\n",
      "Name: event, dtype: float64\n"
     ]
    }
   ],
   "source": [
    "idx = df['time'] == df.groupby('matricula')['time'].transform('max')\n",
    "\n",
    "print(df[idx]['event'].value_counts(normalize=True))"
   ]
  },
  {
   "cell_type": "code",
   "execution_count": 47,
   "metadata": {},
   "outputs": [
    {
     "name": "stdout",
     "output_type": "stream",
     "text": [
      "1    0.788885\n",
      "0    0.211115\n",
      "Name: is_outra_cidade, dtype: float64\n",
      "0    0.557547\n",
      "1    0.442453\n",
      "Name: sexo, dtype: float64\n",
      "23.05639592239395\n"
     ]
    }
   ],
   "source": [
    "idx = (df['time'] == df.groupby('matricula')['time'].transform('max'))\n",
    "\n",
    "print(df[idx]['is_outra_cidade'].value_counts(normalize=True))\n",
    "\n",
    "print(df[idx]['sexo'].value_counts(normalize=True))\n",
    "\n",
    "print(df[idx]['idade'].mean())\n"
   ]
  },
  {
   "cell_type": "markdown",
   "metadata": {},
   "source": [
    "**Para alunos de cursos noturnos: cidade de origem impacta a evasão?**\n",
    "\n",
    "- Taxa de evasão é maior para estudantes cuja cuja cidade de origem difere daquela do campus (58% vs 54%)\n",
    "- Número médio de reprovações é maior para discentes cuja cidade de origem é igual à cidade do campus. Por quê?"
   ]
  },
  {
   "cell_type": "code",
   "execution_count": 20,
   "metadata": {},
   "outputs": [
    {
     "data": {
      "text/html": [
       "<div>\n",
       "<style scoped>\n",
       "    .dataframe tbody tr th:only-of-type {\n",
       "        vertical-align: middle;\n",
       "    }\n",
       "\n",
       "    .dataframe tbody tr th {\n",
       "        vertical-align: top;\n",
       "    }\n",
       "\n",
       "    .dataframe thead th {\n",
       "        text-align: right;\n",
       "    }\n",
       "</style>\n",
       "<table border=\"1\" class=\"dataframe\">\n",
       "  <thead>\n",
       "    <tr style=\"text-align: right;\">\n",
       "      <th>is_outra_cidade</th>\n",
       "      <th>0</th>\n",
       "      <th>1</th>\n",
       "    </tr>\n",
       "    <tr>\n",
       "      <th>event</th>\n",
       "      <th></th>\n",
       "      <th></th>\n",
       "    </tr>\n",
       "  </thead>\n",
       "  <tbody>\n",
       "    <tr>\n",
       "      <th>0</th>\n",
       "      <td>0.456612</td>\n",
       "      <td>0.419795</td>\n",
       "    </tr>\n",
       "    <tr>\n",
       "      <th>1</th>\n",
       "      <td>0.543388</td>\n",
       "      <td>0.580205</td>\n",
       "    </tr>\n",
       "  </tbody>\n",
       "</table>\n",
       "</div>"
      ],
      "text/plain": [
       "is_outra_cidade         0         1\n",
       "event                              \n",
       "0                0.456612  0.419795\n",
       "1                0.543388  0.580205"
      ]
     },
     "execution_count": 20,
     "metadata": {},
     "output_type": "execute_result"
    }
   ],
   "source": [
    "idx = (df['time'] == df.groupby('matricula')['time'].transform('max')) & (df['turno'] == 'Noturno')\n",
    "\n",
    "pd.crosstab(df[idx].event, df[idx].is_outra_cidade, normalize='columns')"
   ]
  },
  {
   "cell_type": "code",
   "execution_count": 21,
   "metadata": {},
   "outputs": [
    {
     "data": {
      "text/html": [
       "<div>\n",
       "<style scoped>\n",
       "    .dataframe tbody tr th:only-of-type {\n",
       "        vertical-align: middle;\n",
       "    }\n",
       "\n",
       "    .dataframe tbody tr th {\n",
       "        vertical-align: top;\n",
       "    }\n",
       "\n",
       "    .dataframe thead th {\n",
       "        text-align: right;\n",
       "    }\n",
       "</style>\n",
       "<table border=\"1\" class=\"dataframe\">\n",
       "  <thead>\n",
       "    <tr style=\"text-align: right;\">\n",
       "      <th></th>\n",
       "      <th>n_repf</th>\n",
       "      <th>n_rep</th>\n",
       "      <th>n_tra</th>\n",
       "    </tr>\n",
       "    <tr>\n",
       "      <th>is_outra_cidade</th>\n",
       "      <th></th>\n",
       "      <th></th>\n",
       "      <th></th>\n",
       "    </tr>\n",
       "  </thead>\n",
       "  <tbody>\n",
       "    <tr>\n",
       "      <th>0</th>\n",
       "      <td>0.302083</td>\n",
       "      <td>0.858542</td>\n",
       "      <td>0.225000</td>\n",
       "    </tr>\n",
       "    <tr>\n",
       "      <th>1</th>\n",
       "      <td>0.240712</td>\n",
       "      <td>0.707430</td>\n",
       "      <td>0.203431</td>\n",
       "    </tr>\n",
       "  </tbody>\n",
       "</table>\n",
       "</div>"
      ],
      "text/plain": [
       "                   n_repf     n_rep     n_tra\n",
       "is_outra_cidade                              \n",
       "0                0.302083  0.858542  0.225000\n",
       "1                0.240712  0.707430  0.203431"
      ]
     },
     "execution_count": 21,
     "metadata": {},
     "output_type": "execute_result"
    }
   ],
   "source": [
    "idx = df.time > 1\n",
    "\n",
    "students = df[idx].groupby('matricula').agg({'n_rep' : 'mean', 'n_repf': 'mean', 'n_tra' : 'mean', 'n_apr' : 'mean'}).reset_index()\n",
    "\n",
    "idx = df['time'] == df.groupby('matricula')['time'].transform('max')\n",
    "\n",
    "foo = pd.merge(df.loc[idx, ['matricula', 'turno', 'event', 'is_outra_cidade']], students, on='matricula')\n",
    "\n",
    "idx= foo.turno == 'Noturno'\n",
    "\n",
    "foo[idx].groupby('is_outra_cidade').agg({'n_repf' : 'mean', 'n_rep' : 'mean', 'n_tra' : 'mean'})"
   ]
  },
  {
   "cell_type": "markdown",
   "metadata": {},
   "source": [
    "**Taxa de evasão é maior para estudantes cuja origem difere da cidade do campus?**\n",
    "\n",
    "- Cidade de origem parece não explicar evasão (diferença de 2%)"
   ]
  },
  {
   "cell_type": "code",
   "execution_count": 24,
   "metadata": {},
   "outputs": [
    {
     "name": "stdout",
     "output_type": "stream",
     "text": [
      "   is_outra_cidade  event    percent\n",
      "0                0      1  57.866044\n",
      "1                0      0  42.133956\n",
      "2                1      1  60.150063\n",
      "3                1      0  39.849937\n"
     ]
    },
    {
     "data": {
      "image/png": "[encoded data removed]",
      "text/plain": [
       "<Figure size 402.375x360 with 1 Axes>"
      ]
     },
     "metadata": {
      "needs_background": "light"
     },
     "output_type": "display_data"
    }
   ],
   "source": [
    "idx = df['time'] == df.groupby('matricula')['time'].transform('max')\n",
    "\n",
    "#print(df[idx]['is_outra_cidade'].value_counts(normalize=True))\n",
    "\n",
    "plot_percentage(df[idx], 'is_outra_cidade', 'event')"
   ]
  },
  {
   "cell_type": "markdown",
   "metadata": {},
   "source": [
    "**Taxa de evasão é maior para ingressantes no 1o semestre?**\n",
    "\n",
    "- Evasão é maior entre ingressantes no 2o semestre (64% vs 56%)"
   ]
  },
  {
   "cell_type": "code",
   "execution_count": 25,
   "metadata": {},
   "outputs": [
    {
     "name": "stdout",
     "output_type": "stream",
     "text": [
      "1    0.571029\n",
      "2    0.428971\n",
      "Name: semestreIngresso, dtype: float64\n"
     ]
    },
    {
     "data": {
      "image/png": "[encoded data removed]",
      "text/plain": [
       "<Figure size 432x288 with 1 Axes>"
      ]
     },
     "metadata": {
      "needs_background": "light"
     },
     "output_type": "display_data"
    }
   ],
   "source": [
    "idx = df['time'] == df.groupby('matricula')['time'].transform('max')\n",
    "counts = df.loc[idx, 'semestreIngresso'].value_counts(normalize=True)\n",
    "print(counts)\n",
    "\n",
    "ax = counts.plot.bar()\n",
    "ax.set(ylabel=\"Percent\")\n",
    "ax.set(title='Evasão por Semestre de Ingresso')\n",
    "plt.show()\n"
   ]
  },
  {
   "cell_type": "code",
   "execution_count": 26,
   "metadata": {},
   "outputs": [
    {
     "name": "stdout",
     "output_type": "stream",
     "text": [
      "1    0.571029\n",
      "2    0.428971\n",
      "Name: semestreIngresso, dtype: float64\n",
      "   semestreIngresso  event    percent\n",
      "0                 1      1  56.291391\n",
      "1                 1      0  43.708609\n",
      "2                 2      1  64.162514\n",
      "3                 2      0  35.837486\n"
     ]
    },
    {
     "data": {
      "image/png": "[encoded data removed]",
      "text/plain": [
       "<Figure size 402.375x360 with 1 Axes>"
      ]
     },
     "metadata": {
      "needs_background": "light"
     },
     "output_type": "display_data"
    }
   ],
   "source": [
    "idx = df['time'] == df.groupby('matricula')['time'].transform('max')\n",
    "\n",
    "print(df[idx]['semestreIngresso'].value_counts(normalize=True))\n",
    "\n",
    "plot_percentage(df[idx], 'semestreIngresso', 'event')"
   ]
  },
  {
   "cell_type": "markdown",
   "metadata": {},
   "source": [
    "**Taxa de evasão no 2o semestre letivo é maior?**\n",
    "\n",
    "- Evasão é maior no 2o semestre letivo (65% vs 53%). Por quê? O SISU pode ser uma linha de investigação."
   ]
  },
  {
   "cell_type": "code",
   "execution_count": 27,
   "metadata": {},
   "outputs": [
    {
     "name": "stdout",
     "output_type": "stream",
     "text": [
      "2    0.540645\n",
      "1    0.459355\n",
      "Name: semestreLetivo, dtype: float64\n"
     ]
    },
    {
     "data": {
      "image/png": "[encoded data removed]",
      "text/plain": [
       "<Figure size 432x288 with 1 Axes>"
      ]
     },
     "metadata": {
      "needs_background": "light"
     },
     "output_type": "display_data"
    }
   ],
   "source": [
    "idx = df['event'] == 1\n",
    "\n",
    "counts = df.loc[idx, 'semestreLetivo'].value_counts(normalize=True)\n",
    "print(counts)\n",
    "\n",
    "ax = counts.plot.bar()\n",
    "ax.set(ylabel=\"Percent\")\n",
    "ax.set(title='Evasão por Semestre Letivo')\n",
    "plt.show()\n"
   ]
  },
  {
   "cell_type": "code",
   "execution_count": 28,
   "metadata": {},
   "outputs": [
    {
     "name": "stdout",
     "output_type": "stream",
     "text": [
      "1    0.508385\n",
      "2    0.491615\n",
      "Name: semestreLetivo, dtype: float64\n",
      "   semestreLetivo  event    percent\n",
      "0               1      1  53.913325\n",
      "1               1      0  46.086675\n",
      "2               2      1  65.618729\n",
      "3               2      0  34.381271\n"
     ]
    },
    {
     "data": {
      "image/png": "[encoded data removed]",
      "text/plain": [
       "<Figure size 402.375x360 with 1 Axes>"
      ]
     },
     "metadata": {
      "needs_background": "light"
     },
     "output_type": "display_data"
    }
   ],
   "source": [
    "idx = df['time'] == df.groupby('matricula')['time'].transform('max')\n",
    "\n",
    "print(df[idx]['semestreLetivo'].value_counts(normalize=True))\n",
    "\n",
    "plot_percentage(df[idx], 'semestreLetivo', 'event')"
   ]
  },
  {
   "cell_type": "markdown",
   "metadata": {},
   "source": [
    "**Há interação entre evasão e o sexo do estudante?**\n",
    "\n",
    "- A evasão é maior entre os homens (62% vs 57%). Por quê?\n",
    "- A taxa de evasão entre mulheres possui uma queda mais acentuada ao longo do tempo."
   ]
  },
  {
   "cell_type": "code",
   "execution_count": 29,
   "metadata": {},
   "outputs": [
    {
     "name": "stdout",
     "output_type": "stream",
     "text": [
      "0    0.535134\n",
      "1    0.464866\n",
      "Name: sexo, dtype: float64\n"
     ]
    },
    {
     "data": {
      "image/png": "[encoded data removed]",
      "text/plain": [
       "<Figure size 432x288 with 1 Axes>"
      ]
     },
     "metadata": {
      "needs_background": "light"
     },
     "output_type": "display_data"
    }
   ],
   "source": [
    "idx = df['event'] == 1\n",
    "\n",
    "counts = df.loc[idx, 'sexo'].value_counts(normalize=True)\n",
    "print(counts)\n",
    "\n",
    "ax = counts.plot.bar()\n",
    "ax.set(ylabel=\"Percent\")\n",
    "ax.set(title='Evasão por Sexo')\n",
    "plt.show()"
   ]
  },
  {
   "cell_type": "code",
   "execution_count": 30,
   "metadata": {},
   "outputs": [
    {
     "name": "stdout",
     "output_type": "stream",
     "text": [
      "0    0.557547\n",
      "1    0.442453\n",
      "Name: sexo, dtype: float64\n",
      "   sexo  event    percent\n",
      "0     0      1  57.269242\n",
      "1     0      0  42.730758\n",
      "2     1      1  62.690450\n",
      "3     1      0  37.309550\n"
     ]
    },
    {
     "data": {
      "image/png": "[encoded data removed]",
      "text/plain": [
       "<Figure size 402.375x360 with 1 Axes>"
      ]
     },
     "metadata": {
      "needs_background": "light"
     },
     "output_type": "display_data"
    }
   ],
   "source": [
    "idx = df['time'] == df.groupby('matricula')['time'].transform('max')\n",
    "\n",
    "print(df[idx]['sexo'].value_counts(normalize=True))\n",
    "\n",
    "plot_percentage(df[idx], 'sexo', 'event')"
   ]
  },
  {
   "cell_type": "code",
   "execution_count": 93,
   "metadata": {
    "scrolled": true
   },
   "outputs": [
    {
     "data": {
      "text/plain": [
       "<seaborn.axisgrid.FacetGrid at 0x7fdb2978aa90>"
      ]
     },
     "execution_count": 93,
     "metadata": {},
     "output_type": "execute_result"
    },
    {
     "data": {
      "image/png": "[encoded data removed]",
      "text/plain": [
       "<Figure size 418.875x360 with 1 Axes>"
      ]
     },
     "metadata": {
      "needs_background": "light"
     },
     "output_type": "display_data"
    }
   ],
   "source": [
    "data = df.groupby(['time','sexo']).agg({'event':'mean'}).reset_index()\n",
    "ax = sns.relplot(x='time', y='event', data=data, hue='sexo',  kind=\"line\")    \n",
    "ax.set(title='Evasão Por Sexo')    "
   ]
  },
  {
   "cell_type": "markdown",
   "metadata": {},
   "source": [
    "**Como se comporta a taxa de evasão com o tempo?**\n",
    "\n",
    "- A taxa de evasão tende a decrescer com o tempo"
   ]
  },
  {
   "cell_type": "code",
   "execution_count": 35,
   "metadata": {},
   "outputs": [
    {
     "data": {
      "text/plain": [
       "[Text(0.5, 1.0, 'Evasão Geral')]"
      ]
     },
     "execution_count": 35,
     "metadata": {},
     "output_type": "execute_result"
    },
    {
     "data": {
      "image/png": "[encoded data removed]",
      "text/plain": [
       "<Figure size 432x288 with 1 Axes>"
      ]
     },
     "metadata": {
      "needs_background": "light"
     },
     "output_type": "display_data"
    }
   ],
   "source": [
    "data = df.groupby('time').agg({'event':'mean'}).reset_index()\n",
    "\n",
    "ax = sns.lineplot(x='time', y='event', data=data)    \n",
    "ax.set(title='Evasão Geral')"
   ]
  },
  {
   "cell_type": "markdown",
   "metadata": {},
   "source": [
    "**Há diferenças entre cota e ampla concorrência?**\n",
    "\n",
    "- Não há evidências de diferença entre cotistas e ampla concorrência (58% vs 60%)\n",
    "- A taxa de evasão de cotistas possui uma queda mais acentuada ao longo do tempo"
   ]
  },
  {
   "cell_type": "code",
   "execution_count": 31,
   "metadata": {},
   "outputs": [
    {
     "name": "stdout",
     "output_type": "stream",
     "text": [
      "0    0.514633\n",
      "1    0.485367\n",
      "Name: is_cotista, dtype: float64\n",
      "   is_cotista  event    percent\n",
      "0           0      1  60.607029\n",
      "1           0      0  39.392971\n",
      "2           1      1  58.672087\n",
      "3           1      0  41.327913\n"
     ]
    },
    {
     "data": {
      "image/png": "[encoded data removed]",
      "text/plain": [
       "<Figure size 402.375x360 with 1 Axes>"
      ]
     },
     "metadata": {
      "needs_background": "light"
     },
     "output_type": "display_data"
    }
   ],
   "source": [
    "idx = df['time'] == df.groupby('matricula')['time'].transform('max')\n",
    "\n",
    "print(df[idx]['is_cotista'].value_counts(normalize=True))\n",
    "\n",
    "plot_percentage(df[idx], 'is_cotista', 'event')"
   ]
  },
  {
   "cell_type": "code",
   "execution_count": 41,
   "metadata": {},
   "outputs": [
    {
     "data": {
      "image/png": "[encoded data removed]",
      "text/plain": [
       "<Figure size 432x288 with 1 Axes>"
      ]
     },
     "metadata": {
      "needs_background": "light"
     },
     "output_type": "display_data"
    }
   ],
   "source": [
    "idx = df['event'] == 1\n",
    "\n",
    "ax = df.loc[idx, 'is_cotista'].value_counts(normalize=True).mul(100).plot.bar()\n",
    "ax.set(ylabel=\"Percent\")\n",
    "ax.set(title='Evasão Se Cotista')\n",
    "plt.show()"
   ]
  },
  {
   "cell_type": "code",
   "execution_count": 42,
   "metadata": {},
   "outputs": [
    {
     "data": {
      "text/plain": [
       "<seaborn.axisgrid.FacetGrid at 0x7f261b117f98>"
      ]
     },
     "execution_count": 42,
     "metadata": {},
     "output_type": "execute_result"
    },
    {
     "data": {
      "image/png": "[encoded data removed]",
      "text/plain": [
       "<Figure size 442.625x360 with 1 Axes>"
      ]
     },
     "metadata": {
      "needs_background": "light"
     },
     "output_type": "display_data"
    }
   ],
   "source": [
    "data = df.groupby(['time','is_cotista']).agg({'event':'mean'}).reset_index()\n",
    "ax = sns.relplot(x='time', y='event', data=data, hue='is_cotista',  kind=\"line\")    \n",
    "ax.set(title='Evasão Cotista vs Ampla Concorrência')    "
   ]
  },
  {
   "cell_type": "markdown",
   "metadata": {},
   "source": [
    "**A idade de ingresso afeta a taxa de evasão?**\n",
    "\n",
    "- Evasão tende tende a ser maior para estudantes entre 30 e 50 anos. Por quê? Necessidade de trabalhar?"
   ]
  },
  {
   "cell_type": "code",
   "execution_count": 46,
   "metadata": {},
   "outputs": [
    {
     "data": {
      "image/png": "[encoded data removed]",
      "text/plain": [
       "<Figure size 432x288 with 1 Axes>"
      ]
     },
     "metadata": {
      "needs_background": "light"
     },
     "output_type": "display_data"
    }
   ],
   "source": [
    "col = 'idade_cat'\n",
    "df[col] = pd.cut(df.idade, bins=[0,20,25,30,50,100])\n",
    "\n",
    "idx = df['time'] == df.groupby('matricula')['time'].transform('max')\n",
    "\n",
    "\n",
    "ax = df[idx].groupby(col).agg({'event':'mean'}).plot.bar()\n",
    "ax.set(ylabel=\"Percent\")\n",
    "ax.set(title='Evasão Por Idade')\n",
    "plt.show()"
   ]
  },
  {
   "cell_type": "markdown",
   "metadata": {},
   "source": [
    "**Gap (tempo entre o término do ensino médio e o ingresso no curso) afeta a evasão?**\n",
    "\n",
    "- O Gap não parece influenciar evasão"
   ]
  },
  {
   "cell_type": "code",
   "execution_count": 48,
   "metadata": {},
   "outputs": [
    {
     "name": "stdout",
     "output_type": "stream",
     "text": [
      "(0.0, 1.0]      0.297757\n",
      "(1.0, 2.0]      0.189497\n",
      "(10.0, 49.0]    0.124405\n",
      "(2.0, 3.0]      0.113868\n",
      "(3.0, 4.0]      0.073419\n",
      "(4.0, 5.0]      0.047417\n",
      "(5.0, 6.0]      0.046057\n",
      "(6.0, 7.0]      0.033311\n",
      "(7.0, 8.0]      0.028892\n",
      "(8.0, 9.0]      0.025493\n",
      "(9.0, 10.0]     0.019884\n",
      "Name: gap_cat, dtype: float64\n"
     ]
    },
    {
     "data": {
      "image/png": "[encoded data removed]",
      "text/plain": [
       "<Figure size 432x288 with 1 Axes>"
      ]
     },
     "metadata": {
      "needs_background": "light"
     },
     "output_type": "display_data"
    }
   ],
   "source": [
    "col = 'gap_cat'\n",
    "df[col] = pd.cut(df.gap, bins=[0,1,2,3,4,5,6,7,8,9,10, df.gap.max()])\n",
    "\n",
    "idx = df['time'] == df.groupby('matricula')['time'].transform('max')\n",
    "\n",
    "print(df[idx][col].value_counts(normalize=True))\n",
    "\n",
    "ax = df[idx].groupby(col).agg({'event':'mean'}).plot.bar()\n",
    "ax.set(ylabel=\"Percent\")\n",
    "ax.set(title='Evasão Por Gap (tempo em anos entre término ensino médio e início ensino superior)')\n",
    "plt.show()"
   ]
  }
 ],
 "metadata": {
  "kernelspec": {
   "display_name": "Python 3",
   "language": "python",
   "name": "python3"
  },
  "language_info": {
   "codemirror_mode": {
    "name": "ipython",
    "version": 3
   },
   "file_extension": ".py",
   "mimetype": "text/x-python",
   "name": "python",
   "nbconvert_exporter": "python",
   "pygments_lexer": "ipython3",
   "version": "3.6.9"
  }
 },
 "nbformat": 4,
 "nbformat_minor": 4
}
