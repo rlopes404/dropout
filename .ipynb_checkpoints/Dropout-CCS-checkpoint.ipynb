{
 "cells": [
  {
   "cell_type": "markdown",
   "metadata": {},
   "source": [
    "# Diagnóstico Inicial da Evasão - CCS"
   ]
  },
  {
   "cell_type": "code",
   "execution_count": 1,
   "metadata": {},
   "outputs": [],
   "source": [
    "import pandas as pd\n",
    "import numpy as np\n",
    "\n",
    "import seaborn as sns\n",
    "import matplotlib.pyplot as plt\n",
    "\n",
    "def plot_percentage(df, x, y, xlabel):   \n",
    "    counts = df.groupby(x)[y].value_counts(normalize=True).mul(100).rename('percent').reset_index()\n",
    "    print(counts)\n",
    "    g = sns.catplot(x=x, y='percent', hue=y, data=counts, kind='bar')\n",
    "    \n",
    "    g.set(xlabel = xlabel)\n",
    "    \n",
    "    new_title = 'Evasão'\n",
    "    g._legend.set_title(new_title)\n",
    "    # replace labels\n",
    "    new_labels = ['Não', 'Sim']\n",
    "    for t, l in zip(g._legend.texts, new_labels): t.set_text(l)\n",
    "    plt.show()\n",
    "\n",
    "df = pd.read_csv('../survival/ze_final.csv')"
   ]
  },
  {
   "cell_type": "code",
   "execution_count": 2,
   "metadata": {},
   "outputs": [],
   "source": [
    "df = df[df['centro'] == 'CCS']"
   ]
  },
  {
   "cell_type": "code",
   "execution_count": 3,
   "metadata": {},
   "outputs": [],
   "source": [
    "def permutation_test(events, obs_diff, n1):\n",
    "    n = len(events)\n",
    "    n2 = n-n1\n",
    "    idxs = np.arange(0, n)\n",
    "\n",
    "\n",
    "\n",
    "    values = []\n",
    "    for i in range(10000):\n",
    "        foo = np.full(n, False)\n",
    "        idx_a = np.random.choice(idxs, n1, replace=False)\n",
    "        foo[idx_a] = True\n",
    "\n",
    "        diff = np.abs(events[foo].mean() - events[~foo].mean())\n",
    "        values.append(diff)\n",
    "\n",
    "    return (np.mean(np.array(values) > obs_diff))\n",
    "\n",
    "def proportion_test(df, col_name):\n",
    "    idx = df['time'] == df.groupby('matricula')['time'].transform('max')\n",
    "    counts = df[idx].groupby(col_name)['event'].mean().values\n",
    "    obs_diff = np.abs(counts[0] - counts[1])\n",
    "    n1 = df[idx][col_name].value_counts().values[0]\n",
    "    events = df.loc[idx, 'event'].values\n",
    "    \n",
    "    return (permutation_test(events, obs_diff, n1))\n",
    "\n",
    "from statsmodels.stats.proportion import proportions_ztest\n",
    "\n",
    "def proportion_test2(df, col_name): \n",
    "    count = df[idx].groupby(col_name)['event'].sum().values\n",
    "    nobs = df[idx].groupby(col_name)['event'].count().values\n",
    "\n",
    "    stat, pval = proportions_ztest(count, nobs)\n",
    "    return pval"
   ]
  },
  {
   "cell_type": "markdown",
   "metadata": {},
   "source": [
    "# Perfil dos Estudantes na Amostra\n",
    "\n",
    "- 50% evadiram\n",
    "- 79% possuem cidade de origem diferente da cidade do campus\n",
    "- 67% são do sexo feminino\n",
    "- Idade média dos estudantes é 22"
   ]
  },
  {
   "cell_type": "code",
   "execution_count": 5,
   "metadata": {},
   "outputs": [
    {
     "name": "stdout",
     "output_type": "stream",
     "text": [
      "0    0.506842\n",
      "1    0.493158\n",
      "Name: event, dtype: float64\n",
      "1    0.799124\n",
      "0    0.200876\n",
      "Name: is_outra_cidade, dtype: float64\n",
      "0    0.675972\n",
      "1    0.324028\n",
      "Name: sexo, dtype: float64\n",
      "22.400656814449917\n"
     ]
    }
   ],
   "source": [
    "idx = (df['time'] == df.groupby('matricula')['time'].transform('max'))\n",
    "\n",
    "print(df[idx]['event'].value_counts(normalize=True))\n",
    "\n",
    "print(df[idx]['is_outra_cidade'].value_counts(normalize=True))\n",
    "\n",
    "print(df[idx]['sexo'].value_counts(normalize=True))\n",
    "\n",
    "print(df[idx]['idade'].mean())"
   ]
  },
  {
   "cell_type": "markdown",
   "metadata": {},
   "source": [
    "# Q.1 Taxa de evasão é maior para estudantes cuja cidade de origem difere da cidade do campus?\n",
    "\n",
    "\n",
    "- Não há evidência (49.38% vs 49.04%)\n",
    "- A diferença não é estatisticamente significativa"
   ]
  },
  {
   "cell_type": "code",
   "execution_count": 6,
   "metadata": {},
   "outputs": [
    {
     "name": "stdout",
     "output_type": "stream",
     "text": [
      "   is_outra_cidade  event    percent\n",
      "0                0      0  50.953678\n",
      "1                0      1  49.046322\n",
      "2                1      0  50.616438\n",
      "3                1      1  49.383562\n"
     ]
    },
    {
     "data": {
      "image/png": "[encoded data removed]",
      "text/plain": [
       "<Figure size 402.375x360 with 1 Axes>"
      ]
     },
     "metadata": {
      "needs_background": "light"
     },
     "output_type": "display_data"
    }
   ],
   "source": [
    "idx = df['time'] == df.groupby('matricula')['time'].transform('max')\n",
    "\n",
    "#print(df[idx]['is_outra_cidade'].value_counts(normalize=True))\n",
    "\n",
    "plot_percentage(df[idx], 'is_outra_cidade', 'event', 'Cidade de origem diferente')"
   ]
  },
  {
   "cell_type": "code",
   "execution_count": 7,
   "metadata": {},
   "outputs": [
    {
     "name": "stdout",
     "output_type": "stream",
     "text": [
      "0.909\n",
      "0.9080344663095663\n"
     ]
    }
   ],
   "source": [
    "print('%.3f'%(proportion_test(df, 'is_outra_cidade')))\n",
    "print(proportion_test2(df, 'is_outra_cidade'))"
   ]
  },
  {
   "cell_type": "markdown",
   "metadata": {},
   "source": [
    "# Q.2 Taxa de evasão é maior para ingressantes no 1o semestre ou 2o semestre letivo? (Ex: taxa de evasão é maior para ingressantes em 2019.1 ou 2019.2?)\n",
    "\n",
    "- Taxa de Evasão é maior entre ingressantes no 2o semestre (53.22% vs 45.65%)\n",
    "- A diferença é estatisticamente significativa"
   ]
  },
  {
   "cell_type": "code",
   "execution_count": 8,
   "metadata": {},
   "outputs": [
    {
     "name": "stdout",
     "output_type": "stream",
     "text": [
      "1    0.516694\n",
      "2    0.483306\n",
      "Name: semestreIngresso, dtype: float64\n",
      "   semestreIngresso  event    percent\n",
      "0                 1      0  54.343220\n",
      "1                 1      1  45.656780\n",
      "2                 2      1  53.227633\n",
      "3                 2      0  46.772367\n"
     ]
    },
    {
     "data": {
      "image/png": "[encoded data removed]",
      "text/plain": [
       "<Figure size 402.375x360 with 1 Axes>"
      ]
     },
     "metadata": {
      "needs_background": "light"
     },
     "output_type": "display_data"
    }
   ],
   "source": [
    "idx = df['time'] == df.groupby('matricula')['time'].transform('max')\n",
    "\n",
    "print(df[idx]['semestreIngresso'].value_counts(normalize=True))\n",
    "\n",
    "plot_percentage(df[idx], 'semestreIngresso', 'event', 'Semestre de ingresso')"
   ]
  },
  {
   "cell_type": "code",
   "execution_count": 9,
   "metadata": {},
   "outputs": [
    {
     "name": "stdout",
     "output_type": "stream",
     "text": [
      "0.002\n",
      "0.0012183871064066403\n"
     ]
    }
   ],
   "source": [
    "print('%.3f'%(proportion_test(df, 'semestreIngresso')))\n",
    "print(proportion_test2(df, 'semestreIngresso'))"
   ]
  },
  {
   "cell_type": "markdown",
   "metadata": {},
   "source": [
    "# Q.3 Em termos gerais, a taxa de evasão é maior no 1o semestre ou 2o semestre do ano letivo? Independentemente do semestre de ingresso do estudante\n",
    "\n",
    "\n",
    "- Taxa de Evasão é maior no 1o semestre letivo (57% vs 40%)\n",
    "- A diferença é estatiscamente significativa"
   ]
  },
  {
   "cell_type": "code",
   "execution_count": 10,
   "metadata": {},
   "outputs": [
    {
     "name": "stdout",
     "output_type": "stream",
     "text": [
      "2    0.525999\n",
      "1    0.474001\n",
      "Name: semestreLetivo, dtype: float64\n",
      "   semestreLetivo  event    percent\n",
      "0               1      0  59.353349\n",
      "1               1      1  40.646651\n",
      "2               2      1  57.127992\n",
      "3               2      0  42.872008\n"
     ]
    },
    {
     "data": {
      "image/png": "[encoded data removed]",
      "text/plain": [
       "<Figure size 402.375x360 with 1 Axes>"
      ]
     },
     "metadata": {
      "needs_background": "light"
     },
     "output_type": "display_data"
    }
   ],
   "source": [
    "idx = df['time'] == df.groupby('matricula')['time'].transform('max')\n",
    "\n",
    "print(df[idx]['semestreLetivo'].value_counts(normalize=True))\n",
    "\n",
    "plot_percentage(df[idx], 'semestreLetivo', 'event', 'Semestre letivo')"
   ]
  },
  {
   "cell_type": "code",
   "execution_count": 11,
   "metadata": {},
   "outputs": [
    {
     "name": "stdout",
     "output_type": "stream",
     "text": [
      "0.000\n",
      "1.9809635414482026e-12\n"
     ]
    }
   ],
   "source": [
    "print('%.3f'%(proportion_test(df, 'semestreLetivo')))\n",
    "print(proportion_test2(df, 'semestreLetivo'))"
   ]
  },
  {
   "cell_type": "code",
   "execution_count": 4,
   "metadata": {},
   "outputs": [
    {
     "data": {
      "text/plain": [
       "semestreLetivo  semestreIngresso\n",
       "1               1                   0.712251\n",
       "                2                   0.287749\n",
       "2               2                   0.672131\n",
       "                1                   0.327869\n",
       "Name: semestreIngresso, dtype: float64"
      ]
     },
     "execution_count": 4,
     "metadata": {},
     "output_type": "execute_result"
    }
   ],
   "source": [
    "idx = (df['time'] == df.groupby('matricula')['time'].transform('max')) & (df['event'] == 1)\n",
    "df[idx].groupby('semestreLetivo')['semestreIngresso'].value_counts(normalize=True)"
   ]
  },
  {
   "cell_type": "markdown",
   "metadata": {},
   "source": [
    "# Q.4 Taxa taxa de evasão é maior para homens ou mulheres?\n",
    "\n",
    "- A taxa de evasão é maior para homens (56% vs 45%).\n",
    "- A diferença é estatisticamente significativa.\n",
    "- A taxa de evasão para homens tende a crescer a partir do 3o semestre"
   ]
  },
  {
   "cell_type": "code",
   "execution_count": 12,
   "metadata": {},
   "outputs": [
    {
     "name": "stdout",
     "output_type": "stream",
     "text": [
      "0    0.675972\n",
      "1    0.324028\n",
      "Name: sexo, dtype: float64\n",
      "   sexo  event    percent\n",
      "0     0      0  54.008097\n",
      "1     0      1  45.991903\n",
      "2     1      1  56.250000\n",
      "3     1      0  43.750000\n"
     ]
    },
    {
     "data": {
      "image/png": "[encoded data removed]",
      "text/plain": [
       "<Figure size 402.375x360 with 1 Axes>"
      ]
     },
     "metadata": {
      "needs_background": "light"
     },
     "output_type": "display_data"
    }
   ],
   "source": [
    "idx = df['time'] == df.groupby('matricula')['time'].transform('max')\n",
    "\n",
    "print(df[idx]['sexo'].value_counts(normalize=True))\n",
    "\n",
    "plot_percentage(df[idx], 'sexo', 'event', 'Sexo')"
   ]
  },
  {
   "cell_type": "code",
   "execution_count": 13,
   "metadata": {
    "scrolled": true
   },
   "outputs": [
    {
     "data": {
      "text/plain": [
       "<seaborn.axisgrid.FacetGrid at 0x7f259d0464a8>"
      ]
     },
     "execution_count": 13,
     "metadata": {},
     "output_type": "execute_result"
    },
    {
     "data": {
      "image/png": "[encoded data removed]",
      "text/plain": [
       "<Figure size 418.875x360 with 1 Axes>"
      ]
     },
     "metadata": {
      "needs_background": "light"
     },
     "output_type": "display_data"
    }
   ],
   "source": [
    "data = df.groupby(['time','sexo']).agg({'event':'mean'}).reset_index()\n",
    "ax = sns.relplot(x='time', y='event', data=data, hue='sexo',  kind=\"line\")    \n",
    "ax.set(title='Evasão Por Sexo')    "
   ]
  },
  {
   "cell_type": "code",
   "execution_count": 14,
   "metadata": {},
   "outputs": [
    {
     "name": "stdout",
     "output_type": "stream",
     "text": [
      "0.000\n",
      "4.0515274937625605e-05\n"
     ]
    }
   ],
   "source": [
    "print('%.3f'%(proportion_test(df, 'sexo')))\n",
    "print(proportion_test2(df, 'sexo'))"
   ]
  },
  {
   "cell_type": "markdown",
   "metadata": {},
   "source": [
    "# Q.5 Taxa de evasão decresce com o tempo?\n",
    "\n",
    "- A taxa de evasão tende a decrescer com o tempo"
   ]
  },
  {
   "cell_type": "code",
   "execution_count": 15,
   "metadata": {},
   "outputs": [
    {
     "data": {
      "text/plain": [
       "[Text(0.5, 1.0, 'Evasão Geral')]"
      ]
     },
     "execution_count": 15,
     "metadata": {},
     "output_type": "execute_result"
    },
    {
     "data": {
      "image/png": "[encoded data removed]",
      "text/plain": [
       "<Figure size 432x288 with 1 Axes>"
      ]
     },
     "metadata": {
      "needs_background": "light"
     },
     "output_type": "display_data"
    }
   ],
   "source": [
    "data = df.groupby('time').agg({'event':'mean'}).reset_index()\n",
    "\n",
    "ax = sns.lineplot(x='time', y='event', data=data)    \n",
    "ax.set(title='Evasão Geral')"
   ]
  },
  {
   "cell_type": "markdown",
   "metadata": {},
   "source": [
    "# Q.6 Taxa de evasão difere entre ingressantes por cota e ampla concorrência?\n",
    "\n",
    "- Não há evidências (49.54% vs 49.10%)\n",
    "- A diferença não é estatisticamente significativa."
   ]
  },
  {
   "cell_type": "code",
   "execution_count": 16,
   "metadata": {},
   "outputs": [
    {
     "name": "stdout",
     "output_type": "stream",
     "text": [
      "0    0.518336\n",
      "1    0.481664\n",
      "Name: is_cotista, dtype: float64\n",
      "   is_cotista  event    percent\n",
      "0           0      0  50.897571\n",
      "1           0      1  49.102429\n",
      "2           1      0  50.454545\n",
      "3           1      1  49.545455\n"
     ]
    },
    {
     "data": {
      "image/png": "[encoded data removed]",
      "text/plain": [
       "<Figure size 402.375x360 with 1 Axes>"
      ]
     },
     "metadata": {
      "needs_background": "light"
     },
     "output_type": "display_data"
    }
   ],
   "source": [
    "idx = df['time'] == df.groupby('matricula')['time'].transform('max')\n",
    "\n",
    "print(df[idx]['is_cotista'].value_counts(normalize=True))\n",
    "\n",
    "plot_percentage(df[idx], 'is_cotista', 'event', 'Estudante cotista')"
   ]
  },
  {
   "cell_type": "code",
   "execution_count": 17,
   "metadata": {},
   "outputs": [
    {
     "data": {
      "text/plain": [
       "<seaborn.axisgrid.FacetGrid at 0x7f259cfc7e10>"
      ]
     },
     "execution_count": 17,
     "metadata": {},
     "output_type": "execute_result"
    },
    {
     "data": {
      "image/png": "[encoded data removed]",
      "text/plain": [
       "<Figure size 442.625x360 with 1 Axes>"
      ]
     },
     "metadata": {
      "needs_background": "light"
     },
     "output_type": "display_data"
    }
   ],
   "source": [
    "data = df.groupby(['time','is_cotista']).agg({'event':'mean'}).reset_index()\n",
    "ax = sns.relplot(x='time', y='event', data=data, hue='is_cotista',  kind=\"line\")    \n",
    "ax.set(title='Evasão Cotista vs Ampla Concorrência', xlabel='Período')    "
   ]
  },
  {
   "cell_type": "code",
   "execution_count": 18,
   "metadata": {},
   "outputs": [
    {
     "name": "stdout",
     "output_type": "stream",
     "text": [
      "0.820\n",
      "0.8498931711928527\n"
     ]
    }
   ],
   "source": [
    "print('%.3f'%(proportion_test(df, 'is_cotista')))\n",
    "print(proportion_test2(df, 'is_cotista'))"
   ]
  },
  {
   "cell_type": "markdown",
   "metadata": {},
   "source": [
    "# Q.7 A idade de ingresso afeta a taxa de evasão?\n",
    "\n",
    "- A idade de ingresso parece afetar a taxa de evasão"
   ]
  },
  {
   "cell_type": "code",
   "execution_count": 19,
   "metadata": {},
   "outputs": [
    {
     "data": {
      "image/png": "[encoded data removed]",
      "text/plain": [
       "<Figure size 432x288 with 1 Axes>"
      ]
     },
     "metadata": {
      "needs_background": "light"
     },
     "output_type": "display_data"
    }
   ],
   "source": [
    "col = 'idade_cat'\n",
    "df[col] = pd.cut(df.idade, bins=[0,20,25,30,50,100])\n",
    "\n",
    "idx = df['time'] == df.groupby('matricula')['time'].transform('max')\n",
    "\n",
    "\n",
    "ax = df[idx].groupby(col).agg({'event':'mean'}).plot.bar()\n",
    "ax.set(ylabel=\"Percent\")\n",
    "ax.set(title='Evasão Por Idade', xlabel='Faixas de Idade')\n",
    "plt.show()"
   ]
  },
  {
   "cell_type": "markdown",
   "metadata": {},
   "source": [
    "# Q.8 Interstício entre o término do ensino médio e o ingresso no curso afeta a evasão?\n",
    "\n",
    "- Taxa de evasão tende a aumentar com o aumento do interstício."
   ]
  },
  {
   "cell_type": "code",
   "execution_count": 20,
   "metadata": {},
   "outputs": [
    {
     "name": "stdout",
     "output_type": "stream",
     "text": [
      "(0.0, 1.0]      0.298028\n",
      "(1.0, 2.0]      0.191549\n",
      "(10.0, 43.0]    0.109859\n",
      "(2.0, 3.0]      0.108169\n",
      "(3.0, 4.0]      0.083944\n",
      "(4.0, 5.0]      0.059155\n",
      "(5.0, 6.0]      0.046761\n",
      "(6.0, 7.0]      0.036620\n",
      "(7.0, 8.0]      0.026479\n",
      "(8.0, 9.0]      0.022535\n",
      "(9.0, 10.0]     0.016901\n",
      "Name: gap_cat, dtype: float64\n"
     ]
    },
    {
     "data": {
      "image/png": "[encoded data removed]",
      "text/plain": [
       "<Figure size 432x288 with 1 Axes>"
      ]
     },
     "metadata": {
      "needs_background": "light"
     },
     "output_type": "display_data"
    }
   ],
   "source": [
    "col = 'gap_cat'\n",
    "df[col] = pd.cut(df.gap, bins=[0,1,2,3,4,5,6,7,8,9,10, df.gap.max()])\n",
    "\n",
    "idx = df['time'] == df.groupby('matricula')['time'].transform('max')\n",
    "\n",
    "print(df[idx][col].value_counts(normalize=True))\n",
    "\n",
    "ax = df[idx].groupby(col).agg({'event':'mean'}).plot.bar()\n",
    "ax.set(ylabel=\"Percent\")\n",
    "ax.set(title='Evasão Por Gap (tempo em anos entre término ensino médio e início ensino superior)', xlabel='Faixas de Interstício')\n",
    "plt.show()"
   ]
  },
  {
   "cell_type": "code",
   "execution_count": 4,
   "metadata": {},
   "outputs": [
    {
     "data": {
      "text/html": [
       "<div>\n",
       "<style scoped>\n",
       "    .dataframe tbody tr th:only-of-type {\n",
       "        vertical-align: middle;\n",
       "    }\n",
       "\n",
       "    .dataframe tbody tr th {\n",
       "        vertical-align: top;\n",
       "    }\n",
       "\n",
       "    .dataframe thead th {\n",
       "        text-align: right;\n",
       "    }\n",
       "</style>\n",
       "<table border=\"1\" class=\"dataframe\">\n",
       "  <thead>\n",
       "    <tr style=\"text-align: right;\">\n",
       "      <th></th>\n",
       "      <th>event</th>\n",
       "    </tr>\n",
       "    <tr>\n",
       "      <th>turno</th>\n",
       "      <th></th>\n",
       "    </tr>\n",
       "  </thead>\n",
       "  <tbody>\n",
       "    <tr>\n",
       "      <th>Matutino</th>\n",
       "      <td>0.525797</td>\n",
       "    </tr>\n",
       "    <tr>\n",
       "      <th>Matutino e Vespertino</th>\n",
       "      <td>0.407480</td>\n",
       "    </tr>\n",
       "  </tbody>\n",
       "</table>\n",
       "</div>"
      ],
      "text/plain": [
       "                          event\n",
       "turno                          \n",
       "Matutino               0.525797\n",
       "Matutino e Vespertino  0.407480"
      ]
     },
     "execution_count": 4,
     "metadata": {},
     "output_type": "execute_result"
    }
   ],
   "source": [
    "idx = (df['time'] == df.groupby('matricula')['time'].transform('max'))\n",
    "\n",
    "df[idx].groupby('turno').agg({'event':'mean'})"
   ]
  },
  {
   "cell_type": "markdown",
   "metadata": {},
   "source": [
    "# Grau afeta evasão?"
   ]
  },
  {
   "cell_type": "code",
   "execution_count": 4,
   "metadata": {},
   "outputs": [
    {
     "data": {
      "text/html": [
       "<div>\n",
       "<style scoped>\n",
       "    .dataframe tbody tr th:only-of-type {\n",
       "        vertical-align: middle;\n",
       "    }\n",
       "\n",
       "    .dataframe tbody tr th {\n",
       "        vertical-align: top;\n",
       "    }\n",
       "\n",
       "    .dataframe thead th {\n",
       "        text-align: right;\n",
       "    }\n",
       "</style>\n",
       "<table border=\"1\" class=\"dataframe\">\n",
       "  <thead>\n",
       "    <tr style=\"text-align: right;\">\n",
       "      <th></th>\n",
       "      <th>event</th>\n",
       "    </tr>\n",
       "    <tr>\n",
       "      <th>grau</th>\n",
       "      <th></th>\n",
       "    </tr>\n",
       "  </thead>\n",
       "  <tbody>\n",
       "    <tr>\n",
       "      <th>Bacharelado</th>\n",
       "      <td>0.492881</td>\n",
       "    </tr>\n",
       "  </tbody>\n",
       "</table>\n",
       "</div>"
      ],
      "text/plain": [
       "                event\n",
       "grau                 \n",
       "Bacharelado  0.492881"
      ]
     },
     "execution_count": 4,
     "metadata": {},
     "output_type": "execute_result"
    }
   ],
   "source": [
    "idx = (df['time'] == df.groupby('matricula')['time'].transform('max'))\n",
    "\n",
    "df[idx].groupby('grau').agg({'event':'mean'})"
   ]
  },
  {
   "cell_type": "code",
   "execution_count": null,
   "metadata": {},
   "outputs": [],
   "source": []
  }
 ],
 "metadata": {
  "kernelspec": {
   "display_name": "Python 3",
   "language": "python",
   "name": "python3"
  },
  "language_info": {
   "codemirror_mode": {
    "name": "ipython",
    "version": 3
   },
   "file_extension": ".py",
   "mimetype": "text/x-python",
   "name": "python",
   "nbconvert_exporter": "python",
   "pygments_lexer": "ipython3",
   "version": "3.6.9"
  }
 },
 "nbformat": 4,
 "nbformat_minor": 4
}
