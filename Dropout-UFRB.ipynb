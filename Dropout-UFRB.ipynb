{
 "cells": [
  {
   "cell_type": "markdown",
   "metadata": {},
   "source": [
    "# Diagnóstico Inicial da Evasão - UFRB"
   ]
  },
  {
   "cell_type": "code",
   "execution_count": 1,
   "metadata": {},
   "outputs": [],
   "source": [
    "import pandas as pd\n",
    "import numpy as np\n",
    "\n",
    "import seaborn as sns\n",
    "import matplotlib.pyplot as plt\n",
    "\n",
    "def plot_percentage(df, x, y, xlabel):   \n",
    "    counts = df.groupby(x)[y].value_counts(normalize=True).mul(100).rename('percent').reset_index()\n",
    "    print(counts)\n",
    "    g = sns.catplot(x=x, y='percent', hue=y, data=counts, kind='bar')\n",
    "    \n",
    "    g.set(xlabel = xlabel)\n",
    "    \n",
    "    new_title = 'Evasão'\n",
    "    g._legend.set_title(new_title)\n",
    "    # replace labels\n",
    "    new_labels = ['Não', 'Sim']\n",
    "    for t, l in zip(g._legend.texts, new_labels): t.set_text(l)\n",
    "    plt.show()\n",
    "\n",
    "df = pd.read_csv('/home/ramon/extrator/survival/ze_final.csv')"
   ]
  },
  {
   "cell_type": "code",
   "execution_count": 2,
   "metadata": {},
   "outputs": [],
   "source": [
    "def permutation_test(events, obs_diff, n1):\n",
    "    n = len(events)\n",
    "    n2 = n-n1\n",
    "    idxs = np.arange(0, n)\n",
    "\n",
    "\n",
    "\n",
    "    values = []\n",
    "    for i in range(10000):\n",
    "        foo = np.full(n, False)\n",
    "        idx_a = np.random.choice(idxs, n1, replace=False)\n",
    "        foo[idx_a] = True\n",
    "\n",
    "        diff = np.abs(events[foo].mean() - events[~foo].mean())\n",
    "        values.append(diff)\n",
    "\n",
    "    return (np.mean(np.array(values) > obs_diff))\n",
    "\n",
    "def proportion_test(df, col_name):\n",
    "    idx = df['time'] == df.groupby('matricula')['time'].transform('max')\n",
    "    counts = df[idx].groupby(col_name)['event'].mean().values\n",
    "    obs_diff = np.abs(counts[0] - counts[1])\n",
    "    n1 = df[idx][col_name].value_counts().values[0]\n",
    "    events = df.loc[idx, 'event'].values\n",
    "    \n",
    "    return (permutation_test(events, obs_diff, n1))\n",
    "\n",
    "from statsmodels.stats.proportion import proportions_ztest\n",
    "\n",
    "def proportion_test2(df, col_name): \n",
    "    count = df[idx].groupby(col_name)['event'].sum().values\n",
    "    nobs = df[idx].groupby(col_name)['event'].count().values\n",
    "\n",
    "    stat, pval = proportions_ztest(count, nobs)\n",
    "    return pval"
   ]
  },
  {
   "cell_type": "code",
   "execution_count": 3,
   "metadata": {},
   "outputs": [
    {
     "data": {
      "text/plain": [
       "CCAAB     0.295409\n",
       "CAHL      0.217980\n",
       "CFP       0.181374\n",
       "CETEC     0.168334\n",
       "CCS       0.096299\n",
       "CETENS    0.024104\n",
       "CECULT    0.016500\n",
       "Name: centro, dtype: float64"
      ]
     },
     "execution_count": 3,
     "metadata": {},
     "output_type": "execute_result"
    }
   ],
   "source": [
    "df['centro'].value_counts(normalize=True)"
   ]
  },
  {
   "cell_type": "markdown",
   "metadata": {},
   "source": [
    "# Perfil dos Estudantes na Amostra\n",
    "\n",
    "- 59% evadiram\n",
    "- 80% possuem cidade de origem diferente da cidade do campus\n",
    "- 54% são do sexo feminino\n",
    "- Idade média dos estudantes é 23"
   ]
  },
  {
   "cell_type": "code",
   "execution_count": 21,
   "metadata": {},
   "outputs": [
    {
     "name": "stdout",
     "output_type": "stream",
     "text": [
      "1    0.595949\n",
      "0    0.404051\n",
      "Name: event, dtype: float64\n",
      "1    0.807366\n",
      "0    0.192634\n",
      "Name: is_outra_cidade, dtype: float64\n",
      "0    0.549164\n",
      "1    0.450836\n",
      "Name: sexo, dtype: float64\n",
      "23.494335736354273\n"
     ]
    }
   ],
   "source": [
    "idx = (df['time'] == df.groupby('matricula')['time'].transform('max'))\n",
    "\n",
    "print(df[idx]['event'].value_counts(normalize=True))\n",
    "\n",
    "print(df[idx]['is_outra_cidade'].value_counts(normalize=True))\n",
    "\n",
    "print(df[idx]['sexo'].value_counts(normalize=True))\n",
    "\n",
    "print(df[idx]['idade'].mean())"
   ]
  },
  {
   "cell_type": "markdown",
   "metadata": {},
   "source": [
    "# Q.1 Taxa de evasão é maior para estudantes cuja cidade de origem difere da cidade do campus?\n",
    "\n",
    "\n",
    "- Sim. Taxa de evasão é maior para estudantes cuja cidade de origem difere daquela do campus (60% vs 57%)\n",
    "- A diferença é estatisticamente significativa"
   ]
  },
  {
   "cell_type": "code",
   "execution_count": 4,
   "metadata": {},
   "outputs": [
    {
     "name": "stdout",
     "output_type": "stream",
     "text": [
      "   is_outra_cidade  event    percent\n",
      "0                0      1  57.739308\n",
      "1                0      0  42.260692\n",
      "2                1      1  60.037660\n",
      "3                1      0  39.962340\n"
     ]
    },
    {
     "data": {
      "image/png": "[encoded data removed]",
      "text/plain": [
       "<Figure size 402.375x360 with 1 Axes>"
      ]
     },
     "metadata": {
      "needs_background": "light"
     },
     "output_type": "display_data"
    }
   ],
   "source": [
    "idx = df['time'] == df.groupby('matricula')['time'].transform('max')\n",
    "\n",
    "#print(df[idx]['is_outra_cidade'].value_counts(normalize=True))\n",
    "\n",
    "plot_percentage(df[idx], 'is_outra_cidade', 'event', 'Cidade de origem diferente')"
   ]
  },
  {
   "cell_type": "code",
   "execution_count": 5,
   "metadata": {},
   "outputs": [
    {
     "name": "stdout",
     "output_type": "stream",
     "text": [
      "0.007\n",
      "0.008348589121757786\n"
     ]
    }
   ],
   "source": [
    "print('%.3f'%(proportion_test(df, 'is_outra_cidade')))\n",
    "print(proportion_test2(df, 'is_outra_cidade'))"
   ]
  },
  {
   "cell_type": "markdown",
   "metadata": {},
   "source": [
    "# Q.2 Taxa de evasão é maior para ingressantes no 1o semestre ou 2o semestre letivo? (Ex: taxa de evasão é maior para ingressantes em 2019.1 ou 2019.2?)\n",
    "\n",
    "- Taxa de Evasão é maior entre ingressantes no 2o semestre (66% vs 54%)\n",
    "- A diferença é estatisticamente significativa"
   ]
  },
  {
   "cell_type": "code",
   "execution_count": 6,
   "metadata": {},
   "outputs": [
    {
     "name": "stdout",
     "output_type": "stream",
     "text": [
      "1    0.578343\n",
      "2    0.421657\n",
      "Name: semestreIngresso, dtype: float64\n",
      "   semestreIngresso  event    percent\n",
      "0                 1      1  54.345798\n",
      "1                 1      0  45.654202\n",
      "2                 2      1  66.794603\n",
      "3                 2      0  33.205397\n"
     ]
    },
    {
     "data": {
      "image/png": "[encoded data removed]",
      "text/plain": [
       "<Figure size 402.375x360 with 1 Axes>"
      ]
     },
     "metadata": {
      "needs_background": "light"
     },
     "output_type": "display_data"
    }
   ],
   "source": [
    "idx = df['time'] == df.groupby('matricula')['time'].transform('max')\n",
    "\n",
    "print(df[idx]['semestreIngresso'].value_counts(normalize=True))\n",
    "\n",
    "plot_percentage(df[idx], 'semestreIngresso', 'event', 'Semestre de ingresso')"
   ]
  },
  {
   "cell_type": "code",
   "execution_count": 7,
   "metadata": {},
   "outputs": [
    {
     "name": "stdout",
     "output_type": "stream",
     "text": [
      "0.000\n",
      "1.425420034549901e-71\n"
     ]
    }
   ],
   "source": [
    "print('%.3f'%(proportion_test(df, 'semestreIngresso')))\n",
    "print(proportion_test2(df, 'semestreIngresso'))"
   ]
  },
  {
   "cell_type": "markdown",
   "metadata": {},
   "source": [
    "# Q.3 Em termos gerais, a taxa de evasão é maior no 1o semestre ou 2o semestre do ano letivo? Independentemente do semestre de ingresso do estudante\n",
    "\n",
    "\n",
    "- Taxa de Evasão é maior no 2o semestre letivo (66% vs 52%). Por quê? O SISU pode ser uma linha de investigação.\n",
    "- A diferença é estatiscamente significativa"
   ]
  },
  {
   "cell_type": "code",
   "execution_count": 8,
   "metadata": {},
   "outputs": [
    {
     "name": "stdout",
     "output_type": "stream",
     "text": [
      "2    0.504193\n",
      "1    0.495807\n",
      "Name: semestreLetivo, dtype: float64\n",
      "   semestreLetivo  event    percent\n",
      "0               1      1  52.898121\n",
      "1               1      0  47.101879\n",
      "2               2      1  66.180333\n",
      "3               2      0  33.819667\n"
     ]
    },
    {
     "data": {
      "image/png": "[encoded data removed]",
      "text/plain": [
       "<Figure size 402.375x360 with 1 Axes>"
      ]
     },
     "metadata": {
      "needs_background": "light"
     },
     "output_type": "display_data"
    }
   ],
   "source": [
    "idx = df['time'] == df.groupby('matricula')['time'].transform('max')\n",
    "\n",
    "print(df[idx]['semestreLetivo'].value_counts(normalize=True))\n",
    "\n",
    "plot_percentage(df[idx], 'semestreLetivo', 'event', 'Semestre letivo')"
   ]
  },
  {
   "cell_type": "code",
   "execution_count": 9,
   "metadata": {},
   "outputs": [
    {
     "name": "stdout",
     "output_type": "stream",
     "text": [
      "0.000\n",
      "3.3033025473410136e-83\n"
     ]
    }
   ],
   "source": [
    "print('%.3f'%(proportion_test(df, 'semestreLetivo')))\n",
    "print(proportion_test2(df, 'semestreLetivo'))"
   ]
  },
  {
   "cell_type": "markdown",
   "metadata": {},
   "source": [
    "# Q.4 Taxa taxa de evasão é maior para homens ou mulheres?\n",
    "\n",
    "- A taxa de evasão é maior para homens (63% vs 56%).\n",
    "- A diferença é estatisticamente significativa."
   ]
  },
  {
   "cell_type": "code",
   "execution_count": 10,
   "metadata": {},
   "outputs": [
    {
     "name": "stdout",
     "output_type": "stream",
     "text": [
      "0    0.549164\n",
      "1    0.450836\n",
      "Name: sexo, dtype: float64\n",
      "   sexo  event    percent\n",
      "0     0      1  56.402929\n",
      "1     0      0  43.597071\n",
      "2     1      1  63.483085\n",
      "3     1      0  36.516915\n"
     ]
    },
    {
     "data": {
      "image/png": "[encoded data removed]",
      "text/plain": [
       "<Figure size 402.375x360 with 1 Axes>"
      ]
     },
     "metadata": {
      "needs_background": "light"
     },
     "output_type": "display_data"
    }
   ],
   "source": [
    "idx = df['time'] == df.groupby('matricula')['time'].transform('max')\n",
    "\n",
    "print(df[idx]['sexo'].value_counts(normalize=True))\n",
    "\n",
    "plot_percentage(df[idx], 'sexo', 'event', 'Sexo')"
   ]
  },
  {
   "cell_type": "code",
   "execution_count": 11,
   "metadata": {
    "scrolled": true
   },
   "outputs": [
    {
     "data": {
      "text/plain": [
       "<seaborn.axisgrid.FacetGrid at 0x7fd0a4c8da20>"
      ]
     },
     "execution_count": 11,
     "metadata": {},
     "output_type": "execute_result"
    },
    {
     "data": {
      "image/png": "[encoded data removed]",
      "text/plain": [
       "<Figure size 418.875x360 with 1 Axes>"
      ]
     },
     "metadata": {
      "needs_background": "light"
     },
     "output_type": "display_data"
    }
   ],
   "source": [
    "data = df.groupby(['time','sexo']).agg({'event':'mean'}).reset_index()\n",
    "ax = sns.relplot(x='time', y='event', data=data, hue='sexo',  kind=\"line\")    \n",
    "ax.set(title='Evasão Por Sexo')    "
   ]
  },
  {
   "cell_type": "code",
   "execution_count": 12,
   "metadata": {},
   "outputs": [
    {
     "name": "stdout",
     "output_type": "stream",
     "text": [
      "0.000\n",
      "1.1616883089289793e-24\n"
     ]
    }
   ],
   "source": [
    "print('%.3f'%(proportion_test(df, 'sexo')))\n",
    "print(proportion_test2(df, 'sexo'))"
   ]
  },
  {
   "cell_type": "markdown",
   "metadata": {},
   "source": [
    "# Q.5 Taxa de evasão decresce com o tempo?\n",
    "\n",
    "- A taxa de evasão tende a decrescer com o tempo"
   ]
  },
  {
   "cell_type": "code",
   "execution_count": 13,
   "metadata": {},
   "outputs": [
    {
     "data": {
      "text/plain": [
       "[Text(0.5, 1.0, 'Evasão Geral')]"
      ]
     },
     "execution_count": 13,
     "metadata": {},
     "output_type": "execute_result"
    },
    {
     "data": {
      "image/png": "[encoded data removed]",
      "text/plain": [
       "<Figure size 432x288 with 1 Axes>"
      ]
     },
     "metadata": {
      "needs_background": "light"
     },
     "output_type": "display_data"
    }
   ],
   "source": [
    "data = df.groupby('time').agg({'event':'mean'}).reset_index()\n",
    "\n",
    "ax = sns.lineplot(x='time', y='event', data=data)    \n",
    "ax.set(title='Evasão Geral')"
   ]
  },
  {
   "cell_type": "markdown",
   "metadata": {},
   "source": [
    "# Q.6 Taxa de evasão difere entre ingressantes por cota e ampla concorrência?\n",
    "\n",
    "- Taxa de evasão é maior em cotista (60% vs 58%)\n",
    "- A diferença é estatisticamente significativa."
   ]
  },
  {
   "cell_type": "code",
   "execution_count": 14,
   "metadata": {},
   "outputs": [
    {
     "name": "stdout",
     "output_type": "stream",
     "text": [
      "0    0.518758\n",
      "1    0.481242\n",
      "Name: is_cotista, dtype: float64\n",
      "   is_cotista  event    percent\n",
      "0           0      1  60.663642\n",
      "1           0      0  39.336358\n",
      "2           1      1  58.442882\n",
      "3           1      0  41.557118\n"
     ]
    },
    {
     "data": {
      "image/png": "[encoded data removed]",
      "text/plain": [
       "<Figure size 402.375x360 with 1 Axes>"
      ]
     },
     "metadata": {
      "needs_background": "light"
     },
     "output_type": "display_data"
    }
   ],
   "source": [
    "idx = df['time'] == df.groupby('matricula')['time'].transform('max')\n",
    "\n",
    "print(df[idx]['is_cotista'].value_counts(normalize=True))\n",
    "\n",
    "plot_percentage(df[idx], 'is_cotista', 'event', 'Estudante cotista')"
   ]
  },
  {
   "cell_type": "code",
   "execution_count": 15,
   "metadata": {},
   "outputs": [
    {
     "data": {
      "text/plain": [
       "<seaborn.axisgrid.FacetGrid at 0x7fd0a4b94c88>"
      ]
     },
     "execution_count": 15,
     "metadata": {},
     "output_type": "execute_result"
    },
    {
     "data": {
      "image/png": "[encoded data removed]",
      "text/plain": [
       "<Figure size 442.625x360 with 1 Axes>"
      ]
     },
     "metadata": {
      "needs_background": "light"
     },
     "output_type": "display_data"
    }
   ],
   "source": [
    "data = df.groupby(['time','is_cotista']).agg({'event':'mean'}).reset_index()\n",
    "ax = sns.relplot(x='time', y='event', data=data, hue='is_cotista',  kind=\"line\")    \n",
    "ax.set(title='Evasão Cotista vs Ampla Concorrência', xlabel='Período')    "
   ]
  },
  {
   "cell_type": "code",
   "execution_count": 16,
   "metadata": {},
   "outputs": [
    {
     "name": "stdout",
     "output_type": "stream",
     "text": [
      "0.001\n",
      "0.0012424224011863354\n"
     ]
    }
   ],
   "source": [
    "print('%.3f'%(proportion_test(df, 'is_cotista')))\n",
    "print(proportion_test2(df, 'is_cotista'))"
   ]
  },
  {
   "cell_type": "markdown",
   "metadata": {},
   "source": [
    "# Q.7 A idade de ingresso afeta a taxa de evasão?\n",
    "\n",
    "- A idade de ingresso não parece afetar a taxa de evasão"
   ]
  },
  {
   "cell_type": "code",
   "execution_count": 17,
   "metadata": {},
   "outputs": [
    {
     "data": {
      "image/png": "[encoded data removed]",
      "text/plain": [
       "<Figure size 432x288 with 1 Axes>"
      ]
     },
     "metadata": {
      "needs_background": "light"
     },
     "output_type": "display_data"
    }
   ],
   "source": [
    "col = 'idade_cat'\n",
    "df[col] = pd.cut(df.idade, bins=[0,20,25,30,50,100])\n",
    "\n",
    "idx = df['time'] == df.groupby('matricula')['time'].transform('max')\n",
    "\n",
    "\n",
    "ax = df[idx].groupby(col).agg({'event':'mean'}).plot.bar()\n",
    "ax.set(ylabel=\"Percent\")\n",
    "ax.set(title='Evasão Por Idade', xlabel='Faixas de Idade')\n",
    "plt.show()"
   ]
  },
  {
   "cell_type": "markdown",
   "metadata": {},
   "source": [
    "# Q.8 Interstício entre o término do ensino médio e o ingresso no curso afeta a evasão?\n",
    "\n",
    "- Taxa de evasão não tende a aumentar com o aumento do interstício."
   ]
  },
  {
   "cell_type": "code",
   "execution_count": 18,
   "metadata": {},
   "outputs": [
    {
     "name": "stdout",
     "output_type": "stream",
     "text": [
      "(0.0, 1.0]      0.299828\n",
      "(1.0, 2.0]      0.176420\n",
      "(10.0, 49.0]    0.141904\n",
      "(2.0, 3.0]      0.101273\n",
      "(3.0, 4.0]      0.071609\n",
      "(4.0, 5.0]      0.051698\n",
      "(5.0, 6.0]      0.044623\n",
      "(6.0, 7.0]      0.034465\n",
      "(7.0, 8.0]      0.030726\n",
      "(8.0, 9.0]      0.025419\n",
      "(9.0, 10.0]     0.022034\n",
      "Name: gap_cat, dtype: float64\n"
     ]
    },
    {
     "data": {
      "image/png": "[encoded data removed]",
      "text/plain": [
       "<Figure size 432x288 with 1 Axes>"
      ]
     },
     "metadata": {
      "needs_background": "light"
     },
     "output_type": "display_data"
    }
   ],
   "source": [
    "col = 'gap_cat'\n",
    "df[col] = pd.cut(df.gap, bins=[0,1,2,3,4,5,6,7,8,9,10, df.gap.max()])\n",
    "\n",
    "idx = df['time'] == df.groupby('matricula')['time'].transform('max')\n",
    "\n",
    "print(df[idx][col].value_counts(normalize=True))\n",
    "\n",
    "ax = df[idx].groupby(col).agg({'event':'mean'}).plot.bar()\n",
    "ax.set(ylabel=\"Percent\")\n",
    "ax.set(title='Evasão Por Gap (tempo em anos entre término ensino médio e início ensino superior)', xlabel='Faixas de Interstício')\n",
    "plt.show()"
   ]
  },
  {
   "cell_type": "markdown",
   "metadata": {},
   "source": [
    "# Turno afeta evasão?"
   ]
  },
  {
   "cell_type": "code",
   "execution_count": 7,
   "metadata": {},
   "outputs": [
    {
     "data": {
      "text/html": [
       "<div>\n",
       "<style scoped>\n",
       "    .dataframe tbody tr th:only-of-type {\n",
       "        vertical-align: middle;\n",
       "    }\n",
       "\n",
       "    .dataframe tbody tr th {\n",
       "        vertical-align: top;\n",
       "    }\n",
       "\n",
       "    .dataframe thead th {\n",
       "        text-align: right;\n",
       "    }\n",
       "</style>\n",
       "<table border=\"1\" class=\"dataframe\">\n",
       "  <thead>\n",
       "    <tr style=\"text-align: right;\">\n",
       "      <th></th>\n",
       "      <th>event</th>\n",
       "    </tr>\n",
       "    <tr>\n",
       "      <th>turno</th>\n",
       "      <th></th>\n",
       "    </tr>\n",
       "  </thead>\n",
       "  <tbody>\n",
       "    <tr>\n",
       "      <th>Matutino</th>\n",
       "      <td>0.525797</td>\n",
       "    </tr>\n",
       "    <tr>\n",
       "      <th>Matutino e Vespertino</th>\n",
       "      <td>0.613443</td>\n",
       "    </tr>\n",
       "    <tr>\n",
       "      <th>Noturno</th>\n",
       "      <td>0.557080</td>\n",
       "    </tr>\n",
       "    <tr>\n",
       "      <th>Vespertino</th>\n",
       "      <td>0.771574</td>\n",
       "    </tr>\n",
       "  </tbody>\n",
       "</table>\n",
       "</div>"
      ],
      "text/plain": [
       "                          event\n",
       "turno                          \n",
       "Matutino               0.525797\n",
       "Matutino e Vespertino  0.613443\n",
       "Noturno                0.557080\n",
       "Vespertino             0.771574"
      ]
     },
     "execution_count": 7,
     "metadata": {},
     "output_type": "execute_result"
    }
   ],
   "source": [
    "idx = (df['time'] == df.groupby('matricula')['time'].transform('max'))\n",
    "\n",
    "df[idx].groupby('turno').agg({'event':'mean'})"
   ]
  },
  {
   "cell_type": "markdown",
   "metadata": {},
   "source": [
    "# Grau afeta evasão?"
   ]
  },
  {
   "cell_type": "code",
   "execution_count": 5,
   "metadata": {},
   "outputs": [
    {
     "data": {
      "text/html": [
       "<div>\n",
       "<style scoped>\n",
       "    .dataframe tbody tr th:only-of-type {\n",
       "        vertical-align: middle;\n",
       "    }\n",
       "\n",
       "    .dataframe tbody tr th {\n",
       "        vertical-align: top;\n",
       "    }\n",
       "\n",
       "    .dataframe thead th {\n",
       "        text-align: right;\n",
       "    }\n",
       "</style>\n",
       "<table border=\"1\" class=\"dataframe\">\n",
       "  <thead>\n",
       "    <tr style=\"text-align: right;\">\n",
       "      <th></th>\n",
       "      <th>event</th>\n",
       "    </tr>\n",
       "    <tr>\n",
       "      <th>grau</th>\n",
       "      <th></th>\n",
       "    </tr>\n",
       "  </thead>\n",
       "  <tbody>\n",
       "    <tr>\n",
       "      <th>Bacharelado</th>\n",
       "      <td>0.601948</td>\n",
       "    </tr>\n",
       "    <tr>\n",
       "      <th>Licenciatura</th>\n",
       "      <td>0.582371</td>\n",
       "    </tr>\n",
       "    <tr>\n",
       "      <th>Tecnológico</th>\n",
       "      <td>0.589059</td>\n",
       "    </tr>\n",
       "  </tbody>\n",
       "</table>\n",
       "</div>"
      ],
      "text/plain": [
       "                 event\n",
       "grau                  \n",
       "Bacharelado   0.601948\n",
       "Licenciatura  0.582371\n",
       "Tecnológico   0.589059"
      ]
     },
     "execution_count": 5,
     "metadata": {},
     "output_type": "execute_result"
    }
   ],
   "source": [
    "idx = (df['time'] == df.groupby('matricula')['time'].transform('max'))\n",
    "\n",
    "df[idx].groupby('grau').agg({'event':'mean'})"
   ]
  },
  {
   "cell_type": "code",
   "execution_count": null,
   "metadata": {},
   "outputs": [],
   "source": []
  }
 ],
 "metadata": {
  "kernelspec": {
   "display_name": "Python 3",
   "language": "python",
   "name": "python3"
  },
  "language_info": {
   "codemirror_mode": {
    "name": "ipython",
    "version": 3
   },
   "file_extension": ".py",
   "mimetype": "text/x-python",
   "name": "python",
   "nbconvert_exporter": "python",
   "pygments_lexer": "ipython3",
   "version": "3.6.9"
  }
 },
 "nbformat": 4,
 "nbformat_minor": 4
}
