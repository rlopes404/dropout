{
 "cells": [
  {
   "cell_type": "code",
   "execution_count": 1,
   "metadata": {},
   "outputs": [],
   "source": [
    "import pandas as pd\n",
    "\n",
    "\n",
    "import numpy as np\n",
    "\n",
    "import seaborn as sns\n",
    "import matplotlib.pyplot as plt\n",
    "\n",
    "def plot_percentage(df, x, y, xlabel):   \n",
    "    counts = df.groupby(x)[y].value_counts(normalize=True).mul(100).rename('percent').reset_index()\n",
    "    print(counts)\n",
    "    g = sns.catplot(x=x, y='percent', hue=y, data=counts, kind='bar')\n",
    "    \n",
    "    g.set(xlabel = xlabel)\n",
    "    \n",
    "    new_title = 'Evasão'\n",
    "    g._legend.set_title(new_title)\n",
    "    # replace labels\n",
    "    new_labels = ['Não', 'Sim']\n",
    "    for t, l in zip(g._legend.texts, new_labels): t.set_text(l)\n",
    "    plt.show()\n",
    "\n",
    "def plot_time_bar(col_group, target, title):\n",
    "    data = df.groupby(['time', col_group]).agg({target:'mean'}).reset_index()\n",
    "    ax = sns.barplot(x='time', y=target, data=data, hue=col_group)\n",
    "    ax.set(title=title) "
   ]
  },
  {
   "cell_type": "code",
   "execution_count": 2,
   "metadata": {},
   "outputs": [
    {
     "name": "stderr",
     "output_type": "stream",
     "text": [
      "/home/ramon/.local/lib/python3.6/site-packages/IPython/core/interactiveshell.py:3063: DtypeWarning: Columns (10,14,28) have mixed types.Specify dtype option on import or set low_memory=False.\n",
      "  interactivity=interactivity, compiler=compiler, result=result)\n"
     ]
    },
    {
     "data": {
      "text/plain": [
       "Index(['matricula', 'periodoLetivo', 'n_rep', 'n_repf', 'n_apr', 'n_tra',\n",
       "       'mediaFinal', 'anoIngresso', 'periodoingresso', 'prazoConclusao',\n",
       "       'dataColacaoGrau', 'periodoAtual', 'dataIntegralizacao',\n",
       "       'modalidadeVaga', 'dataConclusao', 'nomeDiscente', 'dataNascimento',\n",
       "       'sexo', 'raca', 'cpf', 'ufNaturalidade', 'municipioNaturalidade',\n",
       "       'segundoGrauAnoConclusao', 'tipoEnsinoMedio', 'formaIngresso',\n",
       "       'statusDiscente', 'codigoInep', 'curso', 'curriculo', 'is_cotista',\n",
       "       'periodo', 'anoNascimento', 'idade', 'gap', 'centro', 'municipio',\n",
       "       'turno', 'is_outra_cidade', 'time', 'total', 'p_rep', 'p_repf', 'p_apr',\n",
       "       'p_tra'],\n",
       "      dtype='object')"
      ]
     },
     "execution_count": 2,
     "metadata": {},
     "output_type": "execute_result"
    }
   ],
   "source": [
    "df = pd.read_csv('/home/ramon/extrator/retencao/retencao.csv')\n",
    "\n",
    "df.columns\n"
   ]
  },
  {
   "cell_type": "code",
   "execution_count": 3,
   "metadata": {},
   "outputs": [
    {
     "data": {
      "text/plain": [
       "CCAAB     0.309229\n",
       "CAHL      0.224337\n",
       "CFP       0.191012\n",
       "CETEC     0.153852\n",
       "CCS       0.088441\n",
       "CETENS    0.019765\n",
       "CECULT    0.013363\n",
       "Name: centro, dtype: float64"
      ]
     },
     "execution_count": 3,
     "metadata": {},
     "output_type": "execute_result"
    }
   ],
   "source": [
    "df['centro'].value_counts(normalize=True)"
   ]
  },
  {
   "cell_type": "markdown",
   "metadata": {},
   "source": [
    "# Q.1 - Sexo afeta a reprovação?\n",
    "\n",
    "- Homens possuem maiores taxas de reprovação\n",
    "- Diferenças são estatisticamente significativa até o 9º semestre"
   ]
  },
  {
   "cell_type": "code",
   "execution_count": 3,
   "metadata": {},
   "outputs": [
    {
     "data": {
      "image/png": "[encoded data removed]",
      "text/plain": [
       "<Figure size 432x288 with 1 Axes>"
      ]
     },
     "metadata": {
      "needs_background": "light"
     },
     "output_type": "display_data"
    }
   ],
   "source": [
    "plot_time_bar('sexo', 'p_rep', 'Reprovação por Sexo')   "
   ]
  },
  {
   "cell_type": "code",
   "execution_count": 4,
   "metadata": {},
   "outputs": [
    {
     "name": "stdout",
     "output_type": "stream",
     "text": [
      "1 0.00000\n",
      "2 0.00000\n",
      "3 0.00000\n",
      "4 0.00000\n",
      "5 0.00000\n",
      "6 0.00000\n",
      "7 0.00000\n",
      "8 0.00000\n",
      "9 0.00208\n",
      "10 0.71096\n",
      "11 0.11018\n",
      "12 0.07307\n",
      "13 0.12406\n",
      "15 0.19038\n",
      "14 0.55915\n",
      "16 0.07172\n",
      "17 0.98521\n",
      "18 0.01536\n",
      "19 0.89797\n"
     ]
    }
   ],
   "source": [
    "col = 'sexo'\n",
    "\n",
    "for time in df.time.unique():\n",
    "\n",
    "    idx_time = (df.time == time) \n",
    "    idx_cat= (df[col] == 'M')\n",
    "\n",
    "    x = df.loc[(idx_time) & (idx_cat), 'p_rep'].values\n",
    "    y = df.loc[(idx_time) & (~idx_cat), 'p_rep'].values\n",
    "\n",
    "\n",
    "\n",
    "    from scipy import stats\n",
    "    print('%d %.5f'%(time, stats.ttest_ind(x, y)[1]))"
   ]
  },
  {
   "cell_type": "markdown",
   "metadata": {},
   "source": [
    "# Q.2 - Forma de Ingresso (cotista ou ampla concorrência) impacta a reprovação?\n",
    "\n",
    "- Cotistas possuem maior taxa de reprovação no primeiro semestre. A diferença é estatisticamente significativa.\n",
    "- Não há diferença esatisticamente significativa a partir do 2o semestre."
   ]
  },
  {
   "cell_type": "code",
   "execution_count": 5,
   "metadata": {},
   "outputs": [
    {
     "data": {
      "image/png": "[encoded data removed]",
      "text/plain": [
       "<Figure size 432x288 with 1 Axes>"
      ]
     },
     "metadata": {
      "needs_background": "light"
     },
     "output_type": "display_data"
    }
   ],
   "source": [
    "plot_time_bar('is_cotista', 'p_rep', 'Reprovação por Forma de Ingresso')   "
   ]
  },
  {
   "cell_type": "code",
   "execution_count": 6,
   "metadata": {},
   "outputs": [
    {
     "name": "stdout",
     "output_type": "stream",
     "text": [
      "1 0.00041\n",
      "2 0.41703\n",
      "3 0.85272\n",
      "4 0.79828\n",
      "5 0.52696\n",
      "6 0.10802\n",
      "7 0.30466\n",
      "8 0.82556\n",
      "9 0.44854\n",
      "10 0.49074\n",
      "11 0.30107\n",
      "12 0.58198\n",
      "13 0.00523\n",
      "15 0.66658\n",
      "14 0.45720\n",
      "16 0.38136\n",
      "17 0.53233\n",
      "18 0.42707\n",
      "19 0.76912\n"
     ]
    }
   ],
   "source": [
    "col = 'is_cotista'\n",
    "\n",
    "for time in df.time.unique():\n",
    "\n",
    "    idx_time = (df.time == time) \n",
    "    idx_cat= (df[col] == 1)\n",
    "\n",
    "    x = df.loc[(idx_time) & (idx_cat), 'p_rep'].values\n",
    "    y = df.loc[(idx_time) & (~idx_cat), 'p_rep'].values\n",
    "\n",
    "\n",
    "\n",
    "    from scipy import stats\n",
    "    print('%d %.5f'%(time, stats.ttest_ind(x, y)[1]))"
   ]
  },
  {
   "cell_type": "markdown",
   "metadata": {},
   "source": [
    "# Q.3 - Cidade de origem impacta a reprovação?\n",
    "\n",
    "- Estudantes naturais possuem maior taxa de reprovação.\n",
    "- Diferença é estatisticamente significativa até o 7º semestre."
   ]
  },
  {
   "cell_type": "code",
   "execution_count": 7,
   "metadata": {},
   "outputs": [
    {
     "data": {
      "image/png": "[encoded data removed]",
      "text/plain": [
       "<Figure size 432x288 with 1 Axes>"
      ]
     },
     "metadata": {
      "needs_background": "light"
     },
     "output_type": "display_data"
    }
   ],
   "source": [
    "plot_time_bar('is_outra_cidade', 'p_rep', 'Reprovação por Cidde de Origem')   "
   ]
  },
  {
   "cell_type": "code",
   "execution_count": 8,
   "metadata": {},
   "outputs": [
    {
     "name": "stdout",
     "output_type": "stream",
     "text": [
      "1 0.01141\n",
      "2 0.00001\n",
      "3 0.00003\n",
      "4 0.00064\n",
      "5 0.00370\n",
      "6 0.00293\n",
      "7 0.00231\n",
      "8 0.71734\n",
      "9 0.00450\n",
      "10 0.17684\n",
      "11 0.75542\n",
      "12 0.13139\n",
      "13 0.34550\n",
      "15 0.76711\n",
      "14 0.96574\n",
      "16 0.67198\n",
      "17 0.74014\n",
      "18 0.55090\n",
      "19 0.11770\n"
     ]
    }
   ],
   "source": [
    "col = 'is_outra_cidade'\n",
    "\n",
    "for time in df.time.unique():\n",
    "\n",
    "    idx_time = (df.time == time) \n",
    "    idx_cat= (df[col] == 1)\n",
    "\n",
    "    x = df.loc[(idx_time) & (idx_cat), 'p_rep'].values\n",
    "    y = df.loc[(idx_time) & (~idx_cat), 'p_rep'].values\n",
    "\n",
    "\n",
    "\n",
    "    from scipy import stats\n",
    "    print('%d %.5f'%(time, stats.ttest_ind(x, y)[1]))"
   ]
  },
  {
   "cell_type": "markdown",
   "metadata": {},
   "source": [
    "# Q.4 - Período de Ingresso (1o ou 2o edição do SISU) impacta a reprovação?\n",
    "\n",
    "- Estudantes que ingreressam no 2o semestre tendem a possuir maior taxa de reprovação.\n",
    "- Diferença é estatisticamente significativa até o 7º semestre."
   ]
  },
  {
   "cell_type": "code",
   "execution_count": 9,
   "metadata": {},
   "outputs": [
    {
     "data": {
      "image/png": "[encoded data removed]",
      "text/plain": [
       "<Figure size 432x288 with 1 Axes>"
      ]
     },
     "metadata": {
      "needs_background": "light"
     },
     "output_type": "display_data"
    }
   ],
   "source": [
    "plot_time_bar('periodoingresso', 'p_rep', 'Reprovação por Período de Ingresso')   "
   ]
  },
  {
   "cell_type": "code",
   "execution_count": 10,
   "metadata": {},
   "outputs": [
    {
     "name": "stdout",
     "output_type": "stream",
     "text": [
      "1 0.02762\n",
      "2 0.00000\n",
      "3 0.00000\n",
      "4 0.00001\n",
      "5 0.00003\n",
      "6 0.00001\n",
      "7 0.00377\n",
      "8 0.56766\n",
      "9 0.45495\n",
      "10 0.31903\n",
      "11 0.90276\n",
      "12 0.04978\n",
      "13 0.14654\n",
      "15 0.34052\n",
      "14 0.86442\n",
      "16 0.96821\n",
      "17 0.10837\n",
      "18 0.30078\n",
      "19 nan\n"
     ]
    },
    {
     "name": "stderr",
     "output_type": "stream",
     "text": [
      "/home/ramon/.local/lib/python3.6/site-packages/numpy/core/fromnumeric.py:3622: RuntimeWarning: Degrees of freedom <= 0 for slice\n",
      "  **kwargs)\n",
      "/home/ramon/.local/lib/python3.6/site-packages/numpy/core/_methods.py:226: RuntimeWarning: invalid value encountered in double_scalars\n",
      "  ret = ret.dtype.type(ret / rcount)\n"
     ]
    }
   ],
   "source": [
    "col = 'periodoingresso'\n",
    "\n",
    "for time in df.time.unique():\n",
    "\n",
    "    idx_time = (df.time == time) \n",
    "    idx_cat= (df[col] == 1)\n",
    "\n",
    "    x = df.loc[(idx_time) & (idx_cat), 'p_rep'].values\n",
    "    y = df.loc[(idx_time) & (~idx_cat), 'p_rep'].values\n",
    "\n",
    "\n",
    "\n",
    "    from scipy import stats\n",
    "    print('%d %.5f'%(time, stats.ttest_ind(x, y)[1]))"
   ]
  },
  {
   "cell_type": "markdown",
   "metadata": {},
   "source": [
    "# Q5 - Taxa de reprovação decresce com o tempo?\n",
    "\n",
    "- Taxa de reprovação tende a cair até o 8 semestre"
   ]
  },
  {
   "cell_type": "code",
   "execution_count": 11,
   "metadata": {},
   "outputs": [
    {
     "data": {
      "text/plain": [
       "[<matplotlib.axis.XTick at 0x7ff4b9a68860>,\n",
       " <matplotlib.axis.XTick at 0x7ff4b9a68828>,\n",
       " <matplotlib.axis.XTick at 0x7ff4b9a83da0>,\n",
       " <matplotlib.axis.XTick at 0x7ff4b9a296d8>,\n",
       " <matplotlib.axis.XTick at 0x7ff4b9a29ba8>,\n",
       " <matplotlib.axis.XTick at 0x7ff4b9a29c88>,\n",
       " <matplotlib.axis.XTick at 0x7ff4b9a29358>,\n",
       " <matplotlib.axis.XTick at 0x7ff4b9a35550>,\n",
       " <matplotlib.axis.XTick at 0x7ff4b9a359e8>,\n",
       " <matplotlib.axis.XTick at 0x7ff4b9a68470>,\n",
       " <matplotlib.axis.XTick at 0x7ff4b9a83ba8>,\n",
       " <matplotlib.axis.XTick at 0x7ff4b9a44cf8>,\n",
       " <matplotlib.axis.XTick at 0x7ff4b9a5c1d0>,\n",
       " <matplotlib.axis.XTick at 0x7ff4b9a5c668>,\n",
       " <matplotlib.axis.XTick at 0x7ff4b9a5cb00>,\n",
       " <matplotlib.axis.XTick at 0x7ff4b9a5ce80>,\n",
       " <matplotlib.axis.XTick at 0x7ff4b9a53470>,\n",
       " <matplotlib.axis.XTick at 0x7ff4b9a53908>,\n",
       " <matplotlib.axis.XTick at 0x7ff4b9a53da0>]"
      ]
     },
     "execution_count": 11,
     "metadata": {},
     "output_type": "execute_result"
    },
    {
     "data": {
      "image/png": "[encoded data removed]",
      "text/plain": [
       "<Figure size 432x288 with 1 Axes>"
      ]
     },
     "metadata": {
      "needs_background": "light"
     },
     "output_type": "display_data"
    }
   ],
   "source": [
    "data = df.groupby('time').agg({'p_rep':'mean'}).reset_index()\n",
    "\n",
    "ax = sns.lineplot(x='time', y='p_rep', data=data)    \n",
    "ax.set(title='Reprovação Geral')\n",
    "\n",
    "ax.set_xticks(df['time'].unique())"
   ]
  },
  {
   "cell_type": "markdown",
   "metadata": {},
   "source": [
    "# Q6 - A idade de ingresso afeta a taxa de reprovação no 1o semestre?\n",
    "\n",
    "- Não parece haver indícios de que a idade afeta a taxa de reprovaçaõ no 1o semestre do curso"
   ]
  },
  {
   "cell_type": "code",
   "execution_count": 12,
   "metadata": {},
   "outputs": [
    {
     "name": "stdout",
     "output_type": "stream",
     "text": [
      "              p_rep\n",
      "idade_cat          \n",
      "(0, 20]    0.225771\n",
      "(20, 25]   0.218625\n",
      "(25, 30]   0.214516\n",
      "(30, 50]   0.204592\n",
      "(50, 100]  0.215890\n"
     ]
    },
    {
     "data": {
      "image/png": "[encoded data removed]",
      "text/plain": [
       "<Figure size 432x288 with 1 Axes>"
      ]
     },
     "metadata": {
      "needs_background": "light"
     },
     "output_type": "display_data"
    }
   ],
   "source": [
    "col = 'idade_cat'\n",
    "df[col] = pd.cut(df.idade, bins=[0,20,25,30,50,100])\n",
    "\n",
    "for idx, _df in df.groupby(['time']):\n",
    "    \n",
    "    data = _df.groupby(col).agg({'p_rep' : 'mean'})\n",
    "    print(data)\n",
    "    ax = data.plot.bar()\n",
    "    ax.set(ylabel=\"Percent\")\n",
    "    ax.set(title='Reprovação Por Idade no semestre %d'%(idx), xlabel='Faixas de Idade')\n",
    "    plt.show()\n",
    "    break"
   ]
  }
 ],
 "metadata": {
  "kernelspec": {
   "display_name": "Python 3",
   "language": "python",
   "name": "python3"
  },
  "language_info": {
   "codemirror_mode": {
    "name": "ipython",
    "version": 3
   },
   "file_extension": ".py",
   "mimetype": "text/x-python",
   "name": "python",
   "nbconvert_exporter": "python",
   "pygments_lexer": "ipython3",
   "version": "3.6.9"
  }
 },
 "nbformat": 4,
 "nbformat_minor": 4
}
