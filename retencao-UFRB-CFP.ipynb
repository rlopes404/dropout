{
 "cells": [
  {
   "cell_type": "code",
   "execution_count": 1,
   "metadata": {},
   "outputs": [],
   "source": [
    "import pandas as pd\n",
    "\n",
    "\n",
    "import numpy as np\n",
    "\n",
    "import seaborn as sns\n",
    "import matplotlib.pyplot as plt\n",
    "\n",
    "def plot_percentage(df, x, y, xlabel):   \n",
    "    counts = df.groupby(x)[y].value_counts(normalize=True).mul(100).rename('percent').reset_index()\n",
    "    print(counts)\n",
    "    g = sns.catplot(x=x, y='percent', hue=y, data=counts, kind='bar')\n",
    "    \n",
    "    g.set(xlabel = xlabel)\n",
    "    \n",
    "    new_title = 'Evasão'\n",
    "    g._legend.set_title(new_title)\n",
    "    # replace labels\n",
    "    new_labels = ['Não', 'Sim']\n",
    "    for t, l in zip(g._legend.texts, new_labels): t.set_text(l)\n",
    "    plt.show()\n",
    "\n",
    "def plot_time_bar(col_group, target, title):\n",
    "    data = df.groupby(['time', col_group]).agg({target:'mean'}).reset_index()\n",
    "    ax = sns.barplot(x='time', y=target, data=data, hue=col_group)\n",
    "    ax.set(title=title) "
   ]
  },
  {
   "cell_type": "code",
   "execution_count": 2,
   "metadata": {},
   "outputs": [
    {
     "name": "stderr",
     "output_type": "stream",
     "text": [
      "/home/ramon/.local/lib/python3.6/site-packages/IPython/core/interactiveshell.py:3063: DtypeWarning: Columns (10,14,28) have mixed types.Specify dtype option on import or set low_memory=False.\n",
      "  interactivity=interactivity, compiler=compiler, result=result)\n"
     ]
    },
    {
     "data": {
      "text/plain": [
       "Index(['matricula', 'periodoLetivo', 'n_rep', 'n_repf', 'n_apr', 'n_tra',\n",
       "       'mediaFinal', 'anoIngresso', 'periodoingresso', 'prazoConclusao',\n",
       "       'dataColacaoGrau', 'periodoAtual', 'dataIntegralizacao',\n",
       "       'modalidadeVaga', 'dataConclusao', 'nomeDiscente', 'dataNascimento',\n",
       "       'sexo', 'raca', 'cpf', 'ufNaturalidade', 'municipioNaturalidade',\n",
       "       'segundoGrauAnoConclusao', 'tipoEnsinoMedio', 'formaIngresso',\n",
       "       'statusDiscente', 'codigoInep', 'curso', 'curriculo', 'is_cotista',\n",
       "       'periodo', 'anoNascimento', 'idade', 'gap', 'centro', 'municipio',\n",
       "       'turno', 'is_outra_cidade', 'time', 'total', 'p_rep', 'p_repf', 'p_apr',\n",
       "       'p_tra'],\n",
       "      dtype='object')"
      ]
     },
     "execution_count": 2,
     "metadata": {},
     "output_type": "execute_result"
    }
   ],
   "source": [
    "df = pd.read_csv('/home/ramon/extrator/retencao/retencao.csv')\n",
    "\n",
    "df = df[df['centro'] == 'CFP']\n",
    "\n",
    "df.columns\n"
   ]
  },
  {
   "cell_type": "markdown",
   "metadata": {},
   "source": [
    "# Q.1 - Sexo afeta a reprovação?\n",
    "\n",
    "- Homens possuem maiores taxas de reprovação até 8 semestre\n",
    "- Diferença é estatisticamente significativa com exceção para semestre 4"
   ]
  },
  {
   "cell_type": "code",
   "execution_count": 3,
   "metadata": {},
   "outputs": [
    {
     "data": {
      "image/png": "[encoded data removed]",
      "text/plain": [
       "<Figure size 432x288 with 1 Axes>"
      ]
     },
     "metadata": {
      "needs_background": "light"
     },
     "output_type": "display_data"
    }
   ],
   "source": [
    "plot_time_bar('sexo', 'p_rep', 'Reprovação por Sexo')   "
   ]
  },
  {
   "cell_type": "code",
   "execution_count": 4,
   "metadata": {},
   "outputs": [
    {
     "name": "stdout",
     "output_type": "stream",
     "text": [
      "1 0.00000\n",
      "2 0.00148\n",
      "3 0.00000\n",
      "4 0.26984\n",
      "5 0.00897\n",
      "6 0.00036\n",
      "7 0.00530\n",
      "8 0.00009\n",
      "9 0.30498\n",
      "10 0.68498\n",
      "11 0.24706\n",
      "12 0.64221\n",
      "13 0.27472\n",
      "14 0.97172\n",
      "15 0.35697\n",
      "16 0.00289\n",
      "17 0.75202\n",
      "18 0.30626\n",
      "19 0.80417\n"
     ]
    }
   ],
   "source": [
    "col = 'sexo'\n",
    "\n",
    "for time in df.time.unique():\n",
    "\n",
    "    idx_time = (df.time == time) \n",
    "    idx_cat= (df[col] == 'M')\n",
    "\n",
    "    x = df.loc[(idx_time) & (idx_cat), 'p_rep'].values\n",
    "    y = df.loc[(idx_time) & (~idx_cat), 'p_rep'].values\n",
    "\n",
    "\n",
    "\n",
    "    from scipy import stats\n",
    "    print('%d %.5f'%(time, stats.ttest_ind(x, y)[1]))"
   ]
  },
  {
   "cell_type": "markdown",
   "metadata": {},
   "source": [
    "# Q.2 - Forma de Ingresso (cotista ou ampla concorrência) impacta a reprovação?\n",
    "\n",
    "- Cotistas possuem maior taxa de reprovação no 1o semestre\n",
    "- A diferença é estatisticamente significativa"
   ]
  },
  {
   "cell_type": "code",
   "execution_count": 5,
   "metadata": {},
   "outputs": [
    {
     "data": {
      "image/png": "[encoded data removed]",
      "text/plain": [
       "<Figure size 432x288 with 1 Axes>"
      ]
     },
     "metadata": {
      "needs_background": "light"
     },
     "output_type": "display_data"
    }
   ],
   "source": [
    "plot_time_bar('is_cotista', 'p_rep', 'Reprovação por Forma de Ingresso')   "
   ]
  },
  {
   "cell_type": "code",
   "execution_count": 6,
   "metadata": {},
   "outputs": [
    {
     "name": "stdout",
     "output_type": "stream",
     "text": [
      "1 0.02681\n",
      "2 0.20035\n",
      "3 0.21713\n",
      "4 0.59814\n",
      "5 0.01708\n",
      "6 0.33348\n",
      "7 0.07215\n",
      "8 0.77302\n",
      "9 0.28481\n",
      "10 0.16295\n",
      "11 0.81225\n",
      "12 0.83532\n",
      "13 0.00974\n",
      "14 0.55575\n",
      "15 0.34284\n",
      "16 0.19214\n",
      "17 0.95458\n",
      "18 0.85594\n",
      "19 nan\n"
     ]
    },
    {
     "name": "stderr",
     "output_type": "stream",
     "text": [
      "/home/ramon/.local/lib/python3.6/site-packages/numpy/core/fromnumeric.py:3622: RuntimeWarning: Degrees of freedom <= 0 for slice\n",
      "  **kwargs)\n",
      "/home/ramon/.local/lib/python3.6/site-packages/numpy/core/_methods.py:226: RuntimeWarning: invalid value encountered in double_scalars\n",
      "  ret = ret.dtype.type(ret / rcount)\n"
     ]
    }
   ],
   "source": [
    "col = 'is_cotista'\n",
    "\n",
    "for time in df.time.unique():\n",
    "\n",
    "    idx_time = (df.time == time) \n",
    "    idx_cat= (df[col] == 1)\n",
    "\n",
    "    x = df.loc[(idx_time) & (idx_cat), 'p_rep'].values\n",
    "    y = df.loc[(idx_time) & (~idx_cat), 'p_rep'].values\n",
    "\n",
    "\n",
    "\n",
    "    from scipy import stats\n",
    "    print('%d %.5f'%(time, stats.ttest_ind(x, y)[1]))"
   ]
  },
  {
   "cell_type": "markdown",
   "metadata": {},
   "source": [
    "# Q.3 - Cidade de origem impacta a reprovação?\n",
    "\n",
    "- Não há evidências"
   ]
  },
  {
   "cell_type": "code",
   "execution_count": 7,
   "metadata": {},
   "outputs": [
    {
     "data": {
      "image/png": "[encoded data removed]",
      "text/plain": [
       "<Figure size 432x288 with 1 Axes>"
      ]
     },
     "metadata": {
      "needs_background": "light"
     },
     "output_type": "display_data"
    }
   ],
   "source": [
    "plot_time_bar('is_outra_cidade', 'p_rep', 'Reprovação por Cidde de Origem')   "
   ]
  },
  {
   "cell_type": "code",
   "execution_count": 8,
   "metadata": {},
   "outputs": [
    {
     "name": "stdout",
     "output_type": "stream",
     "text": [
      "1 0.77788\n",
      "2 0.40219\n",
      "3 0.38758\n",
      "4 0.04459\n",
      "5 0.20803\n",
      "6 0.59787\n",
      "7 0.31967\n",
      "8 0.07147\n",
      "9 0.39902\n",
      "10 0.69497\n",
      "11 0.45519\n",
      "12 0.89851\n",
      "13 0.67545\n",
      "14 0.46399\n",
      "15 0.58649\n",
      "16 0.90641\n",
      "17 0.81255\n",
      "18 nan\n",
      "19 nan\n"
     ]
    }
   ],
   "source": [
    "col = 'is_outra_cidade'\n",
    "\n",
    "for time in df.time.unique():\n",
    "\n",
    "    idx_time = (df.time == time) \n",
    "    idx_cat= (df[col] == 1)\n",
    "\n",
    "    x = df.loc[(idx_time) & (idx_cat), 'p_rep'].values\n",
    "    y = df.loc[(idx_time) & (~idx_cat), 'p_rep'].values\n",
    "\n",
    "\n",
    "\n",
    "    from scipy import stats\n",
    "    print('%d %.5f'%(time, stats.ttest_ind(x, y)[1]))"
   ]
  },
  {
   "cell_type": "markdown",
   "metadata": {},
   "source": [
    "# Q.4 - Período de Ingresso (1o ou 2o edição do SISU) impacta a reprovação?\n",
    "\n",
    "- No 1o semestre do curso, discentes que ingressam na 1a edição do SISU possue maior taxa de reprovação\n",
    "- A diferença é estatisticamente significativa"
   ]
  },
  {
   "cell_type": "code",
   "execution_count": 9,
   "metadata": {},
   "outputs": [
    {
     "data": {
      "image/png": "[encoded data removed]",
      "text/plain": [
       "<Figure size 432x288 with 1 Axes>"
      ]
     },
     "metadata": {
      "needs_background": "light"
     },
     "output_type": "display_data"
    }
   ],
   "source": [
    "plot_time_bar('periodoingresso', 'p_rep', 'Reprovação por Período de Ingresso')   "
   ]
  },
  {
   "cell_type": "code",
   "execution_count": 10,
   "metadata": {},
   "outputs": [
    {
     "name": "stdout",
     "output_type": "stream",
     "text": [
      "1 0.00000\n",
      "2 0.02987\n",
      "3 0.80447\n",
      "4 0.77515\n",
      "5 0.55160\n",
      "6 0.03332\n",
      "7 0.00620\n",
      "8 0.06197\n",
      "9 0.02651\n",
      "10 0.16751\n",
      "11 0.20270\n",
      "12 0.22492\n",
      "13 0.57777\n",
      "14 0.05391\n",
      "15 0.85114\n",
      "16 0.86343\n",
      "17 0.27197\n",
      "18 0.21221\n",
      "19 nan\n"
     ]
    }
   ],
   "source": [
    "col = 'periodoingresso'\n",
    "\n",
    "for time in df.time.unique():\n",
    "\n",
    "    idx_time = (df.time == time) \n",
    "    idx_cat= (df[col] == 1)\n",
    "\n",
    "    x = df.loc[(idx_time) & (idx_cat), 'p_rep'].values\n",
    "    y = df.loc[(idx_time) & (~idx_cat), 'p_rep'].values\n",
    "\n",
    "\n",
    "\n",
    "    from scipy import stats\n",
    "    print('%d %.5f'%(time, stats.ttest_ind(x, y)[1]))"
   ]
  },
  {
   "cell_type": "markdown",
   "metadata": {},
   "source": [
    "# Q5 - Taxa de reprovação decresce com o tempo?\n",
    "\n",
    "- Taxa de reprovação tende a decrescer até o 8o semestre"
   ]
  },
  {
   "cell_type": "code",
   "execution_count": 11,
   "metadata": {},
   "outputs": [
    {
     "data": {
      "text/plain": [
       "[<matplotlib.axis.XTick at 0x7f4aff75b128>,\n",
       " <matplotlib.axis.XTick at 0x7f4aff75b0f0>,\n",
       " <matplotlib.axis.XTick at 0x7f4aff693630>,\n",
       " <matplotlib.axis.XTick at 0x7f4aff6b40f0>,\n",
       " <matplotlib.axis.XTick at 0x7f4aff6b4518>,\n",
       " <matplotlib.axis.XTick at 0x7f4aff6b49b0>,\n",
       " <matplotlib.axis.XTick at 0x7f4aff693710>,\n",
       " <matplotlib.axis.XTick at 0x7f4aff6b4d30>,\n",
       " <matplotlib.axis.XTick at 0x7f4aff6b9208>,\n",
       " <matplotlib.axis.XTick at 0x7f4aff76ad30>,\n",
       " <matplotlib.axis.XTick at 0x7f4aff693470>,\n",
       " <matplotlib.axis.XTick at 0x7f4aff649588>,\n",
       " <matplotlib.axis.XTick at 0x7f4aff649a20>,\n",
       " <matplotlib.axis.XTick at 0x7f4aff649eb8>,\n",
       " <matplotlib.axis.XTick at 0x7f4aff64f390>,\n",
       " <matplotlib.axis.XTick at 0x7f4aff64f828>,\n",
       " <matplotlib.axis.XTick at 0x7f4aff64fcc0>,\n",
       " <matplotlib.axis.XTick at 0x7f4aff657198>,\n",
       " <matplotlib.axis.XTick at 0x7f4aff657630>]"
      ]
     },
     "execution_count": 11,
     "metadata": {},
     "output_type": "execute_result"
    },
    {
     "data": {
      "image/png": "[encoded data removed]",
      "text/plain": [
       "<Figure size 432x288 with 1 Axes>"
      ]
     },
     "metadata": {
      "needs_background": "light"
     },
     "output_type": "display_data"
    }
   ],
   "source": [
    "data = df.groupby('time').agg({'p_rep':'mean'}).reset_index()\n",
    "\n",
    "ax = sns.lineplot(x='time', y='p_rep', data=data)    \n",
    "ax.set(title='Reprovação')\n",
    "\n",
    "ax.set_xticks(df['time'].unique())"
   ]
  },
  {
   "cell_type": "markdown",
   "metadata": {},
   "source": [
    "# Q6 - A idade de ingresso afeta a taxa de reprovação no 1o semestre?\n",
    "\n",
    "- Não há evidências"
   ]
  },
  {
   "cell_type": "code",
   "execution_count": 12,
   "metadata": {},
   "outputs": [
    {
     "name": "stdout",
     "output_type": "stream",
     "text": [
      "              p_rep\n",
      "idade_cat          \n",
      "(0, 20]    0.186872\n",
      "(20, 25]   0.202639\n",
      "(25, 30]   0.201166\n",
      "(30, 50]   0.202332\n",
      "(50, 100]  0.325463\n"
     ]
    },
    {
     "data": {
      "image/png": "[encoded data removed]",
      "text/plain": [
       "<Figure size 432x288 with 1 Axes>"
      ]
     },
     "metadata": {
      "needs_background": "light"
     },
     "output_type": "display_data"
    }
   ],
   "source": [
    "col = 'idade_cat'\n",
    "df[col] = pd.cut(df.idade, bins=[0,20,25,30,50,100])\n",
    "\n",
    "for idx, _df in df.groupby(['time']):\n",
    "    \n",
    "    data = _df.groupby(col).agg({'p_rep' : 'mean'})\n",
    "    print(data)\n",
    "    ax = data.plot.bar()\n",
    "    ax.set(ylabel=\"Percent\")\n",
    "    ax.set(title='Reprovação Por Idade no semestre %d'%(idx), xlabel='Faixas de Idade')\n",
    "    plt.show()\n",
    "    break"
   ]
  }
 ],
 "metadata": {
  "kernelspec": {
   "display_name": "Python 3",
   "language": "python",
   "name": "python3"
  },
  "language_info": {
   "codemirror_mode": {
    "name": "ipython",
    "version": 3
   },
   "file_extension": ".py",
   "mimetype": "text/x-python",
   "name": "python",
   "nbconvert_exporter": "python",
   "pygments_lexer": "ipython3",
   "version": "3.6.9"
  }
 },
 "nbformat": 4,
 "nbformat_minor": 4
}
